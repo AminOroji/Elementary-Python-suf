{
 "cells": [
  {
   "cell_type": "markdown",
   "id": "8a0a91c8",
   "metadata": {},
   "source": [
    "# Chapter 5: Functions I"
   ]
  },
  {
   "cell_type": "markdown",
   "id": "f687234e",
   "metadata": {},
   "source": [
    "- In the context of programming, a function is a named sequence of statements that performs a computation.\n",
    "- The specific name that we can call a function is called **name**.\n",
    "- The function input is called **argument**. \n",
    "- The result is called the **return value**.\n",
    "\n",
    "For example:\n"
   ]
  },
  {
   "cell_type": "markdown",
   "id": "8f9694cf",
   "metadata": {},
   "source": [
    "- In the context of programming, a function is a named sequence of statements that performs a computation.\n",
    "- The specific name that we can call a function is called **name**.\n",
    "- The function input is called **argument**. \n",
    "- The result is called the **return value**.\n",
    "\n",
    "For example:\n"
   ]
  },
  {
   "cell_type": "code",
   "execution_count": 1,
   "id": "5ef7d1fe",
   "metadata": {},
   "outputs": [
    {
     "data": {
      "text/plain": [
       "int"
      ]
     },
     "execution_count": 1,
     "metadata": {},
     "output_type": "execute_result"
    }
   ],
   "source": [
    "type(32)"
   ]
  },
  {
   "cell_type": "code",
   "execution_count": 2,
   "id": "de6f1321",
   "metadata": {},
   "outputs": [
    {
     "data": {
      "text/plain": [
       "str"
      ]
     },
     "execution_count": 2,
     "metadata": {},
     "output_type": "execute_result"
    }
   ],
   "source": [
    "type('32')"
   ]
  },
  {
   "cell_type": "markdown",
   "id": "6f6f8d50",
   "metadata": {},
   "source": [
    "the function name, argument and return value are **type, 32 and int**, respectively. "
   ]
  },
  {
   "cell_type": "markdown",
   "id": "5abdda49",
   "metadata": {},
   "source": [
    "## Flow of execution\n",
    "In order to ensure that a function is defined before its first use, you have to know the order in which statements are executed, which is called the flow of execution."
   ]
  },
  {
   "cell_type": "markdown",
   "id": "597ae718",
   "metadata": {},
   "source": [
    "## Parameters and arguments\n",
    "- Some of the built-in functions we have seen require arguments. For example, when you call math.sin you pass a number as an argument. \n",
    "\n",
    "- Some functions take more than one argument: math.pow takes two, the base and the exponent.\n",
    "\n",
    "- Inside the function, the arguments are assigned to variables called parameters.\n"
   ]
  },
  {
   "cell_type": "markdown",
   "id": "827a27e7",
   "metadata": {},
   "source": [
    "## Why functions?\n",
    "It may not be clear why it is worth the trouble to divide a program into functions. There are several reasons:\n",
    "1. Creating a new function gives you an opportunity to name a group of state- ments, which makes your program easier to read, understand, and debug.\n",
    "2. Functions can make a program smaller by eliminating repetitive code. Later, if you make a change, you only have to make it in one place.\n",
    "3. Dividing a long program into functions allows you to debug the parts one at a time and then assemble them into a working whole.\n",
    "4. Well-designed functions are often useful for many programs. Once you write and debug one, you can reuse it."
   ]
  },
  {
   "cell_type": "code",
   "execution_count": null,
   "id": "1ab9cd38",
   "metadata": {},
   "outputs": [],
   "source": []
  },
  {
   "cell_type": "markdown",
   "id": "ede82fe4",
   "metadata": {},
   "source": [
    "## Built-in Functions"
   ]
  },
  {
   "cell_type": "code",
   "execution_count": 3,
   "id": "c3732bf0",
   "metadata": {},
   "outputs": [
    {
     "name": "stdout",
     "output_type": "stream",
     "text": [
      "min =  3\n",
      "Max =  94\n",
      "Length =  5\n",
      "Summation =  162\n"
     ]
    }
   ],
   "source": [
    "lst = [12, 20, 3, 94, 33]\n",
    "print('min = ', min(lst))\n",
    "print('Max = ', max(lst))\n",
    "print('Length = ', len(lst))\n",
    "print('Summation = ', sum(lst))"
   ]
  },
  {
   "cell_type": "markdown",
   "id": "1696208b",
   "metadata": {},
   "source": [
    "## Type Conversion Functions\n",
    "- int\n",
    "- str\n",
    "- float"
   ]
  },
  {
   "cell_type": "markdown",
   "id": "0f10d241",
   "metadata": {},
   "source": [
    "## Math Functions"
   ]
  },
  {
   "cell_type": "code",
   "execution_count": 4,
   "id": "fbc19970",
   "metadata": {},
   "outputs": [
    {
     "data": {
      "text/plain": [
       "['__doc__',\n",
       " '__file__',\n",
       " '__loader__',\n",
       " '__name__',\n",
       " '__package__',\n",
       " '__spec__',\n",
       " 'acos',\n",
       " 'acosh',\n",
       " 'asin',\n",
       " 'asinh',\n",
       " 'atan',\n",
       " 'atan2',\n",
       " 'atanh',\n",
       " 'ceil',\n",
       " 'comb',\n",
       " 'copysign',\n",
       " 'cos',\n",
       " 'cosh',\n",
       " 'degrees',\n",
       " 'dist',\n",
       " 'e',\n",
       " 'erf',\n",
       " 'erfc',\n",
       " 'exp',\n",
       " 'expm1',\n",
       " 'fabs',\n",
       " 'factorial',\n",
       " 'floor',\n",
       " 'fmod',\n",
       " 'frexp',\n",
       " 'fsum',\n",
       " 'gamma',\n",
       " 'gcd',\n",
       " 'hypot',\n",
       " 'inf',\n",
       " 'isclose',\n",
       " 'isfinite',\n",
       " 'isinf',\n",
       " 'isnan',\n",
       " 'isqrt',\n",
       " 'lcm',\n",
       " 'ldexp',\n",
       " 'lgamma',\n",
       " 'log',\n",
       " 'log10',\n",
       " 'log1p',\n",
       " 'log2',\n",
       " 'modf',\n",
       " 'nan',\n",
       " 'nextafter',\n",
       " 'perm',\n",
       " 'pi',\n",
       " 'pow',\n",
       " 'prod',\n",
       " 'radians',\n",
       " 'remainder',\n",
       " 'sin',\n",
       " 'sinh',\n",
       " 'sqrt',\n",
       " 'tan',\n",
       " 'tanh',\n",
       " 'tau',\n",
       " 'trunc',\n",
       " 'ulp']"
      ]
     },
     "execution_count": 4,
     "metadata": {},
     "output_type": "execute_result"
    }
   ],
   "source": [
    "import math\n",
    "dir(math)"
   ]
  },
  {
   "cell_type": "code",
   "execution_count": 5,
   "id": "974ab503",
   "metadata": {},
   "outputs": [
    {
     "data": {
      "text/plain": [
       "3.141592653589793"
      ]
     },
     "execution_count": 5,
     "metadata": {},
     "output_type": "execute_result"
    }
   ],
   "source": [
    "pi = math.pi\n",
    "pi"
   ]
  },
  {
   "cell_type": "code",
   "execution_count": 6,
   "id": "d3865cfb",
   "metadata": {},
   "outputs": [
    {
     "data": {
      "text/plain": [
       "-0.9880316240928618"
      ]
     },
     "execution_count": 6,
     "metadata": {},
     "output_type": "execute_result"
    }
   ],
   "source": [
    "math.sin(30) # input is in form of radian and not degree."
   ]
  },
  {
   "cell_type": "code",
   "execution_count": 7,
   "id": "97e856bc",
   "metadata": {},
   "outputs": [
    {
     "data": {
      "text/plain": [
       "0.49999999999999994"
      ]
     },
     "execution_count": 7,
     "metadata": {},
     "output_type": "execute_result"
    }
   ],
   "source": [
    "deg = 30\n",
    "rad = deg / 360.0 * 2 * pi  #convert from degrees to radians, divide by 360 and multiply by 2π:\n",
    "math.sin(rad)"
   ]
  },
  {
   "cell_type": "code",
   "execution_count": 8,
   "id": "802d94fc",
   "metadata": {},
   "outputs": [
    {
     "data": {
      "text/plain": [
       "0.7071067811865475"
      ]
     },
     "execution_count": 8,
     "metadata": {},
     "output_type": "execute_result"
    }
   ],
   "source": [
    "deg = 45\n",
    "rad = deg / 360.0 * 2 * pi  #convert from degrees to radians, divide by 360 and multiply by 2π:\n",
    "math.sin(rad)"
   ]
  },
  {
   "cell_type": "code",
   "execution_count": 9,
   "id": "660a17c4",
   "metadata": {},
   "outputs": [
    {
     "data": {
      "text/plain": [
       "0.7071067811865476"
      ]
     },
     "execution_count": 9,
     "metadata": {},
     "output_type": "execute_result"
    }
   ],
   "source": [
    "math.sqrt(2)/2"
   ]
  },
  {
   "cell_type": "code",
   "execution_count": 10,
   "id": "502debb2",
   "metadata": {},
   "outputs": [],
   "source": [
    "# import cos method from math\n",
    "from math import exp, cos, log"
   ]
  },
  {
   "cell_type": "code",
   "execution_count": 11,
   "id": "8f519692",
   "metadata": {},
   "outputs": [
    {
     "data": {
      "text/plain": [
       "(1.0, 1.1447298858494002, 0.7071067811865476)"
      ]
     },
     "execution_count": 11,
     "metadata": {},
     "output_type": "execute_result"
    }
   ],
   "source": [
    "exp(0), log(pi), cos(rad)"
   ]
  },
  {
   "cell_type": "code",
   "execution_count": 12,
   "id": "cf602843",
   "metadata": {},
   "outputs": [
    {
     "data": {
      "text/plain": [
       "(2, 2, 3, 3)"
      ]
     },
     "execution_count": 12,
     "metadata": {},
     "output_type": "execute_result"
    }
   ],
   "source": [
    "math.floor(2.001), math.floor(2.999999), math.ceil(2.001), math.ceil(2.9999)"
   ]
  },
  {
   "cell_type": "code",
   "execution_count": 13,
   "id": "d98f89a0",
   "metadata": {},
   "outputs": [
    {
     "data": {
      "text/plain": [
       "(-3, -3, -2, -2)"
      ]
     },
     "execution_count": 13,
     "metadata": {},
     "output_type": "execute_result"
    }
   ],
   "source": [
    "math.floor(-2.001), math.floor(-2.999999), math.ceil(-2.001), math.ceil(-2.9999)"
   ]
  },
  {
   "cell_type": "markdown",
   "id": "bd8528c8",
   "metadata": {},
   "source": [
    "## Random Numbers"
   ]
  },
  {
   "cell_type": "code",
   "execution_count": 14,
   "id": "792e0d4e",
   "metadata": {},
   "outputs": [
    {
     "data": {
      "text/plain": [
       "['BPF',\n",
       " 'LOG4',\n",
       " 'NV_MAGICCONST',\n",
       " 'RECIP_BPF',\n",
       " 'Random',\n",
       " 'SG_MAGICCONST',\n",
       " 'SystemRandom',\n",
       " 'TWOPI',\n",
       " '_Sequence',\n",
       " '_Set',\n",
       " '__all__',\n",
       " '__builtins__',\n",
       " '__cached__',\n",
       " '__doc__',\n",
       " '__file__',\n",
       " '__loader__',\n",
       " '__name__',\n",
       " '__package__',\n",
       " '__spec__',\n",
       " '_accumulate',\n",
       " '_acos',\n",
       " '_bisect',\n",
       " '_ceil',\n",
       " '_cos',\n",
       " '_e',\n",
       " '_exp',\n",
       " '_floor',\n",
       " '_inst',\n",
       " '_log',\n",
       " '_os',\n",
       " '_pi',\n",
       " '_random',\n",
       " '_repeat',\n",
       " '_sha512',\n",
       " '_sin',\n",
       " '_sqrt',\n",
       " '_test',\n",
       " '_test_generator',\n",
       " '_urandom',\n",
       " '_warn',\n",
       " 'betavariate',\n",
       " 'choice',\n",
       " 'choices',\n",
       " 'expovariate',\n",
       " 'gammavariate',\n",
       " 'gauss',\n",
       " 'getrandbits',\n",
       " 'getstate',\n",
       " 'lognormvariate',\n",
       " 'normalvariate',\n",
       " 'paretovariate',\n",
       " 'randbytes',\n",
       " 'randint',\n",
       " 'random',\n",
       " 'randrange',\n",
       " 'sample',\n",
       " 'seed',\n",
       " 'setstate',\n",
       " 'shuffle',\n",
       " 'triangular',\n",
       " 'uniform',\n",
       " 'vonmisesvariate',\n",
       " 'weibullvariate']"
      ]
     },
     "execution_count": 14,
     "metadata": {},
     "output_type": "execute_result"
    }
   ],
   "source": [
    "import random\n",
    "dir(random)"
   ]
  },
  {
   "cell_type": "code",
   "execution_count": 15,
   "id": "e9f484e6",
   "metadata": {},
   "outputs": [
    {
     "name": "stdout",
     "output_type": "stream",
     "text": [
      "0.3241610642744568\n",
      "0.896027485606474\n",
      "0.563678222170995\n",
      "0.6297766138312237\n",
      "0.6415161137870694\n",
      "0.4411263295640563\n",
      "0.29113188161461223\n",
      "0.21265534744948567\n",
      "0.8792782085948787\n",
      "0.9864003219843165\n"
     ]
    }
   ],
   "source": [
    "for i in range(10):\n",
    "    x = random.random() \n",
    "    print(x)"
   ]
  },
  {
   "cell_type": "code",
   "execution_count": 16,
   "id": "c3881aa6",
   "metadata": {},
   "outputs": [
    {
     "ename": "KeyboardInterrupt",
     "evalue": "Interrupted by user",
     "output_type": "error",
     "traceback": [
      "\u001b[0;31m---------------------------------------------------------------------------\u001b[0m",
      "\u001b[0;31mKeyboardInterrupt\u001b[0m                         Traceback (most recent call last)",
      "Input \u001b[0;32mIn [16]\u001b[0m, in \u001b[0;36m<module>\u001b[0;34m\u001b[0m\n\u001b[1;32m      1\u001b[0m \u001b[38;5;28;01mwhile\u001b[39;00m \u001b[38;5;28;01mTrue\u001b[39;00m:\n\u001b[0;32m----> 2\u001b[0m     a \u001b[38;5;241m=\u001b[39m \u001b[38;5;28;43minput\u001b[39;49m\u001b[43m(\u001b[49m\u001b[38;5;124;43m'\u001b[39;49m\u001b[38;5;124;43mEnter a: \u001b[39;49m\u001b[38;5;124;43m'\u001b[39;49m\u001b[43m)\u001b[49m\n\u001b[1;32m      3\u001b[0m     \u001b[38;5;28;01mif\u001b[39;00m a \u001b[38;5;241m==\u001b[39m \u001b[38;5;124m'\u001b[39m\u001b[38;5;124mdone\u001b[39m\u001b[38;5;124m'\u001b[39m: \u001b[38;5;28;01mbreak\u001b[39;00m\n\u001b[1;32m      4\u001b[0m     b \u001b[38;5;241m=\u001b[39m \u001b[38;5;28minput\u001b[39m(\u001b[38;5;124m'\u001b[39m\u001b[38;5;124mEnter b: \u001b[39m\u001b[38;5;124m'\u001b[39m)\n",
      "File \u001b[0;32m/usr/local/lib/python3.9/site-packages/ipykernel/kernelbase.py:1075\u001b[0m, in \u001b[0;36mKernel.raw_input\u001b[0;34m(self, prompt)\u001b[0m\n\u001b[1;32m   1071\u001b[0m \u001b[38;5;28;01mif\u001b[39;00m \u001b[38;5;129;01mnot\u001b[39;00m \u001b[38;5;28mself\u001b[39m\u001b[38;5;241m.\u001b[39m_allow_stdin:\n\u001b[1;32m   1072\u001b[0m     \u001b[38;5;28;01mraise\u001b[39;00m StdinNotImplementedError(\n\u001b[1;32m   1073\u001b[0m         \u001b[38;5;124m\"\u001b[39m\u001b[38;5;124mraw_input was called, but this frontend does not support input requests.\u001b[39m\u001b[38;5;124m\"\u001b[39m\n\u001b[1;32m   1074\u001b[0m     )\n\u001b[0;32m-> 1075\u001b[0m \u001b[38;5;28;01mreturn\u001b[39;00m \u001b[38;5;28;43mself\u001b[39;49m\u001b[38;5;241;43m.\u001b[39;49m\u001b[43m_input_request\u001b[49m\u001b[43m(\u001b[49m\n\u001b[1;32m   1076\u001b[0m \u001b[43m    \u001b[49m\u001b[38;5;28;43mstr\u001b[39;49m\u001b[43m(\u001b[49m\u001b[43mprompt\u001b[49m\u001b[43m)\u001b[49m\u001b[43m,\u001b[49m\n\u001b[1;32m   1077\u001b[0m \u001b[43m    \u001b[49m\u001b[38;5;28;43mself\u001b[39;49m\u001b[38;5;241;43m.\u001b[39;49m\u001b[43m_parent_ident\u001b[49m\u001b[43m[\u001b[49m\u001b[38;5;124;43m\"\u001b[39;49m\u001b[38;5;124;43mshell\u001b[39;49m\u001b[38;5;124;43m\"\u001b[39;49m\u001b[43m]\u001b[49m\u001b[43m,\u001b[49m\n\u001b[1;32m   1078\u001b[0m \u001b[43m    \u001b[49m\u001b[38;5;28;43mself\u001b[39;49m\u001b[38;5;241;43m.\u001b[39;49m\u001b[43mget_parent\u001b[49m\u001b[43m(\u001b[49m\u001b[38;5;124;43m\"\u001b[39;49m\u001b[38;5;124;43mshell\u001b[39;49m\u001b[38;5;124;43m\"\u001b[39;49m\u001b[43m)\u001b[49m\u001b[43m,\u001b[49m\n\u001b[1;32m   1079\u001b[0m \u001b[43m    \u001b[49m\u001b[43mpassword\u001b[49m\u001b[38;5;241;43m=\u001b[39;49m\u001b[38;5;28;43;01mFalse\u001b[39;49;00m\u001b[43m,\u001b[49m\n\u001b[1;32m   1080\u001b[0m \u001b[43m\u001b[49m\u001b[43m)\u001b[49m\n",
      "File \u001b[0;32m/usr/local/lib/python3.9/site-packages/ipykernel/kernelbase.py:1120\u001b[0m, in \u001b[0;36mKernel._input_request\u001b[0;34m(self, prompt, ident, parent, password)\u001b[0m\n\u001b[1;32m   1117\u001b[0m             \u001b[38;5;28;01mbreak\u001b[39;00m\n\u001b[1;32m   1118\u001b[0m \u001b[38;5;28;01mexcept\u001b[39;00m \u001b[38;5;167;01mKeyboardInterrupt\u001b[39;00m:\n\u001b[1;32m   1119\u001b[0m     \u001b[38;5;66;03m# re-raise KeyboardInterrupt, to truncate traceback\u001b[39;00m\n\u001b[0;32m-> 1120\u001b[0m     \u001b[38;5;28;01mraise\u001b[39;00m \u001b[38;5;167;01mKeyboardInterrupt\u001b[39;00m(\u001b[38;5;124m\"\u001b[39m\u001b[38;5;124mInterrupted by user\u001b[39m\u001b[38;5;124m\"\u001b[39m) \u001b[38;5;28;01mfrom\u001b[39;00m \u001b[38;5;28mNone\u001b[39m\n\u001b[1;32m   1121\u001b[0m \u001b[38;5;28;01mexcept\u001b[39;00m \u001b[38;5;167;01mException\u001b[39;00m:\n\u001b[1;32m   1122\u001b[0m     \u001b[38;5;28mself\u001b[39m\u001b[38;5;241m.\u001b[39mlog\u001b[38;5;241m.\u001b[39mwarning(\u001b[38;5;124m\"\u001b[39m\u001b[38;5;124mInvalid Message:\u001b[39m\u001b[38;5;124m\"\u001b[39m, exc_info\u001b[38;5;241m=\u001b[39m\u001b[38;5;28;01mTrue\u001b[39;00m)\n",
      "\u001b[0;31mKeyboardInterrupt\u001b[0m: Interrupted by user"
     ]
    }
   ],
   "source": [
    "while True:\n",
    "    a = input('Enter a: ')\n",
    "    if a == 'done': break\n",
    "    b = input('Enter b: ')\n",
    "    if a >= b:\n",
    "        print('Wrong Order!')\n",
    "        continue\n",
    "    else:\n",
    "        try:\n",
    "            a = int(a)\n",
    "            b = int(b)\n",
    "            for i in range(5):\n",
    "                x = random.random()\n",
    "                x = math.floor(a + (b-a) * x)\n",
    "                print(x)\n",
    "\n",
    "        except:\n",
    "            print('Wrong Numbers!')"
   ]
  },
  {
   "cell_type": "code",
   "execution_count": 17,
   "id": "2a0a2dc0",
   "metadata": {},
   "outputs": [
    {
     "data": {
      "text/plain": [
       "9"
      ]
     },
     "execution_count": 17,
     "metadata": {},
     "output_type": "execute_result"
    }
   ],
   "source": [
    "random.randint(5, 10)"
   ]
  },
  {
   "cell_type": "code",
   "execution_count": 18,
   "id": "822d9806",
   "metadata": {},
   "outputs": [
    {
     "name": "stdout",
     "output_type": "stream",
     "text": [
      "40\n",
      "37\n",
      "72\n",
      "71\n",
      "84\n",
      "10\n",
      "79\n",
      "46\n",
      "46\n",
      "24\n",
      "80\n",
      "20\n",
      "97\n",
      "98\n",
      "15\n",
      "14\n",
      "91\n",
      "83\n",
      "85\n",
      "90\n"
     ]
    }
   ],
   "source": [
    "for i in range(20):\n",
    "    print(random.randint(10, 100))"
   ]
  },
  {
   "cell_type": "code",
   "execution_count": 26,
   "id": "ecb31b0f",
   "metadata": {},
   "outputs": [
    {
     "name": "stdout",
     "output_type": "stream",
     "text": [
      "19\n",
      "98\n",
      "15\n",
      "91\n",
      "41\n",
      "50\n",
      "91\n",
      "61\n",
      "96\n",
      "12\n"
     ]
    }
   ],
   "source": [
    "x = 50\n",
    "while (x >= 15):\n",
    "    x = random.randint(1,100)\n",
    "    print(x)"
   ]
  },
  {
   "cell_type": "code",
   "execution_count": 19,
   "id": "f62e10a8",
   "metadata": {},
   "outputs": [
    {
     "data": {
      "text/plain": [
       "3"
      ]
     },
     "execution_count": 19,
     "metadata": {},
     "output_type": "execute_result"
    }
   ],
   "source": [
    "t = [1, 2, 3]\n",
    "random.choice(t)"
   ]
  },
  {
   "cell_type": "markdown",
   "id": "783c964a",
   "metadata": {},
   "source": [
    "## Adding a New Functions"
   ]
  },
  {
   "cell_type": "code",
   "execution_count": 27,
   "id": "327f3575",
   "metadata": {},
   "outputs": [
    {
     "name": "stdout",
     "output_type": "stream",
     "text": [
      "Enter Your First Name: A\n",
      "Enter Your Last Name: b\n",
      "Enter Your email Address: c\n",
      "{('A', 'b'): 'c'}\n"
     ]
    }
   ],
   "source": [
    "first = input('Enter Your First Name: ')\n",
    "last = input('Enter Your Last Name: ')\n",
    "email = input('Enter Your email Address: ')\n",
    "d = {(first,last):email}\n",
    "print(d)"
   ]
  },
  {
   "cell_type": "code",
   "execution_count": 28,
   "id": "3c2f5648",
   "metadata": {},
   "outputs": [
    {
     "name": "stdout",
     "output_type": "stream",
     "text": [
      "Enter Your First Name: done\n",
      "{}\n"
     ]
    }
   ],
   "source": [
    "d = dict()\n",
    "while True:\n",
    "    first = input('Enter Your First Name: ')\n",
    "    if first == 'done': \n",
    "        break\n",
    "    last = input('Enter Your Last Name: ')\n",
    "    email = input('Enter Your email Address: ')\n",
    "    d[(first,last)] = email\n",
    "    \n",
    "print(d)"
   ]
  },
  {
   "cell_type": "code",
   "execution_count": 29,
   "id": "a25252d8",
   "metadata": {},
   "outputs": [],
   "source": [
    "def make_dictionary(email, d ={} ,first = 'Amin',last = 'Oroji'):\n",
    "    d[(first,last)] = email\n",
    "    return d"
   ]
  },
  {
   "cell_type": "code",
   "execution_count": 30,
   "id": "52fb8f97",
   "metadata": {},
   "outputs": [
    {
     "data": {
      "text/plain": [
       "{('Armin', 'G'): 'armin@prata-tech.com',\n",
       " ('Amin', 'Oroji'): 'amin@prata-tech.com'}"
      ]
     },
     "execution_count": 30,
     "metadata": {},
     "output_type": "execute_result"
    }
   ],
   "source": [
    "make_dictionary('amin@prata-tech.com', d = {('Armin','G'): 'armin@prata-tech.com'})"
   ]
  },
  {
   "cell_type": "code",
   "execution_count": 31,
   "id": "cbcee219",
   "metadata": {},
   "outputs": [
    {
     "data": {
      "text/plain": [
       "{('Sahar', 'Monfared'): 'amin@prata-tech.com'}"
      ]
     },
     "execution_count": 31,
     "metadata": {},
     "output_type": "execute_result"
    }
   ],
   "source": [
    "make_dictionary(first = 'Sahar', email = 'amin@prata-tech.com', last = 'Monfared')"
   ]
  },
  {
   "cell_type": "code",
   "execution_count": 32,
   "id": "cfd48cd7",
   "metadata": {},
   "outputs": [
    {
     "name": "stdout",
     "output_type": "stream",
     "text": [
      "Enter Your First Name: done\n",
      "{}\n"
     ]
    }
   ],
   "source": [
    "d = dict()\n",
    "while True:\n",
    "    first = input('Enter Your First Name: ')\n",
    "    if first == 'done': \n",
    "        break\n",
    "    last = input('Enter Your Last Name: ')\n",
    "    email = input('Enter Your email Address: ')\n",
    "    make_dictionary(d,first,last,email)\n",
    "    \n",
    "print(d)"
   ]
  },
  {
   "cell_type": "markdown",
   "id": "9603e99d",
   "metadata": {},
   "source": [
    "### Exe: Imporve your Function"
   ]
  },
  {
   "cell_type": "code",
   "execution_count": 33,
   "id": "33800a72",
   "metadata": {},
   "outputs": [],
   "source": [
    "# Write a Python function to find the Max of three numbers.\n",
    "def find_max(lst):\n",
    "    return max(lst)"
   ]
  },
  {
   "cell_type": "code",
   "execution_count": 34,
   "id": "5150840c",
   "metadata": {},
   "outputs": [
    {
     "data": {
      "text/plain": [
       "[5910317,\n",
       " 1262534,\n",
       " 6074457,\n",
       " 3630540,\n",
       " 4044184,\n",
       " 1145074,\n",
       " 8946570,\n",
       " 8829242,\n",
       " 7374447,\n",
       " 26570,\n",
       " 6421206,\n",
       " 4944456,\n",
       " 5112619,\n",
       " 6855315,\n",
       " 7734970]"
      ]
     },
     "execution_count": 34,
     "metadata": {},
     "output_type": "execute_result"
    }
   ],
   "source": [
    "lst = list()\n",
    "for i in range(15):\n",
    "    lst.append(random.randint(1, 10000000))\n",
    "lst"
   ]
  },
  {
   "cell_type": "code",
   "execution_count": 35,
   "id": "cada5839",
   "metadata": {},
   "outputs": [],
   "source": [
    "def mult_all(lst):\n",
    "    multi = 1\n",
    "    for item in lst:\n",
    "        multi = multi * item\n",
    "    return multi"
   ]
  },
  {
   "cell_type": "code",
   "execution_count": 36,
   "id": "12a49f0b",
   "metadata": {},
   "outputs": [
    {
     "data": {
      "text/plain": [
       "24"
      ]
     },
     "execution_count": 36,
     "metadata": {},
     "output_type": "execute_result"
    }
   ],
   "source": [
    "# test\n",
    "lst = [1,2,3,4]\n",
    "mult_all(lst)"
   ]
  },
  {
   "cell_type": "code",
   "execution_count": 37,
   "id": "b2ea1dcd",
   "metadata": {},
   "outputs": [],
   "source": [
    "# Write a Python function to check whether a number falls in a given range.\n",
    "def interval_checker(number, start, end):\n",
    "    bl = (start <= number) and (number <= end) \n",
    "    return bl"
   ]
  },
  {
   "cell_type": "code",
   "execution_count": 38,
   "id": "3bb4a047",
   "metadata": {},
   "outputs": [
    {
     "data": {
      "text/plain": [
       "True"
      ]
     },
     "execution_count": 38,
     "metadata": {},
     "output_type": "execute_result"
    }
   ],
   "source": [
    "interval_checker(0.5, 0, 1)"
   ]
  },
  {
   "cell_type": "code",
   "execution_count": 39,
   "id": "0db0c9ba",
   "metadata": {},
   "outputs": [
    {
     "data": {
      "text/plain": [
       "False"
      ]
     },
     "execution_count": 39,
     "metadata": {},
     "output_type": "execute_result"
    }
   ],
   "source": [
    "interval_checker(0.5, 1, 2)"
   ]
  },
  {
   "cell_type": "markdown",
   "id": "9a6d5983",
   "metadata": {},
   "source": [
    "## Exercise \n",
    "1. Write a Python program to reverse a string.\n",
    "2. Write a Python function that accepts a string and calculates the number of uppercase letters and lowercase letters."
   ]
  },
  {
   "cell_type": "code",
   "execution_count": 40,
   "id": "c71acde3",
   "metadata": {},
   "outputs": [],
   "source": [
    "# calculate the area of a circle\n",
    "from math import pi\n",
    "def area(diameter):\n",
    "    return pi * ((diameter/2)**2)"
   ]
  },
  {
   "cell_type": "code",
   "execution_count": 41,
   "id": "e00bfe59",
   "metadata": {},
   "outputs": [
    {
     "data": {
      "text/plain": [
       "(3.141592653589793, 12.566370614359172, 7853.981633974483)"
      ]
     },
     "execution_count": 41,
     "metadata": {},
     "output_type": "execute_result"
    }
   ],
   "source": [
    "# test\n",
    "area(2), area(4), area(100)"
   ]
  },
  {
   "cell_type": "code",
   "execution_count": 42,
   "id": "c0a7b7ca",
   "metadata": {},
   "outputs": [],
   "source": [
    "# is odd or even?\n",
    "def is_even(number):\n",
    "    if number%2 == 0:\n",
    "        return True\n",
    "    else:\n",
    "        return False"
   ]
  },
  {
   "cell_type": "code",
   "execution_count": 43,
   "id": "21d808e1",
   "metadata": {},
   "outputs": [
    {
     "data": {
      "text/plain": [
       "[1, 2, 3, 4]"
      ]
     },
     "execution_count": 43,
     "metadata": {},
     "output_type": "execute_result"
    }
   ],
   "source": [
    "lst"
   ]
  },
  {
   "cell_type": "code",
   "execution_count": 44,
   "id": "e002c616",
   "metadata": {},
   "outputs": [
    {
     "name": "stdout",
     "output_type": "stream",
     "text": [
      "{1: 'Odd', 2: 'Even', 3: 'Odd', 4: 'Even'}\n"
     ]
    }
   ],
   "source": [
    "d = dict()\n",
    "for item in lst:\n",
    "    if is_even(item):\n",
    "        d[item] = 'Even'\n",
    "    else:\n",
    "        d[item] = 'Odd'\n",
    "        \n",
    "print(d)"
   ]
  },
  {
   "cell_type": "code",
   "execution_count": 45,
   "id": "df49c526",
   "metadata": {},
   "outputs": [
    {
     "name": "stdout",
     "output_type": "stream",
     "text": [
      "{'Even': 2, 'Odd': 2}\n"
     ]
    }
   ],
   "source": [
    "d1 = {'Even':0,'Odd':0}\n",
    "for item in lst:\n",
    "    if is_even(item):\n",
    "        d1['Even'] += 1\n",
    "    else:\n",
    "        d1['Odd'] += 1\n",
    "        \n",
    "print(d1)"
   ]
  },
  {
   "cell_type": "code",
   "execution_count": 46,
   "id": "bcb9716a",
   "metadata": {},
   "outputs": [],
   "source": [
    "# input: start, end, num = how many times\n",
    "# output: a dictionary that shows how many in the 1st, 2nd, 3rd, fouth quarters, respectively.\n",
    "d = {'1':0, '2':0, '3':0, '4':0}\n",
    "def q_dict(start = 0, end = 100, num = 20):\n",
    "    \n",
    "    \n",
    "    return d"
   ]
  },
  {
   "cell_type": "code",
   "execution_count": 47,
   "id": "8fa54f50",
   "metadata": {},
   "outputs": [
    {
     "name": "stdout",
     "output_type": "stream",
     "text": [
      "I'm a lumberjack, and I'm okay.\n",
      "I sleep all night and I work all day.\n"
     ]
    }
   ],
   "source": [
    "def print_lyrics():\n",
    "    print(\"I'm a lumberjack, and I'm okay.\") \n",
    "    print('I sleep all night and I work all day.')\n",
    "    \n",
    "print_lyrics()"
   ]
  },
  {
   "cell_type": "code",
   "execution_count": 48,
   "id": "15f40b9a",
   "metadata": {},
   "outputs": [
    {
     "name": "stdout",
     "output_type": "stream",
     "text": [
      "I'm a lumberjack, and I'm okay.\n",
      "I sleep all night and I work all day.\n",
      "I'm a lumberjack, and I'm okay.\n",
      "I sleep all night and I work all day.\n"
     ]
    }
   ],
   "source": [
    "def repeat_lyrics():\n",
    "    print_lyrics()\n",
    "    print_lyrics()\n",
    "    \n",
    "repeat_lyrics()"
   ]
  },
  {
   "cell_type": "code",
   "execution_count": null,
   "id": "ee84ad0e",
   "metadata": {},
   "outputs": [],
   "source": []
  }
 ],
 "metadata": {
  "kernelspec": {
   "display_name": "Python 3 (ipykernel)",
   "language": "python",
   "name": "python3"
  },
  "language_info": {
   "codemirror_mode": {
    "name": "ipython",
    "version": 3
   },
   "file_extension": ".py",
   "mimetype": "text/x-python",
   "name": "python",
   "nbconvert_exporter": "python",
   "pygments_lexer": "ipython3",
   "version": "3.9.6"
  }
 },
 "nbformat": 4,
 "nbformat_minor": 5
}
