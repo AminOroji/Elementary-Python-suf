{
 "cells": [
  {
   "cell_type": "markdown",
   "id": "5802beee",
   "metadata": {},
   "source": [
    "# Chapter3: Conditional Expressions\n",
    "\n",
    "## Comparison Operators"
   ]
  },
  {
   "cell_type": "code",
   "execution_count": null,
   "id": "cee66032",
   "metadata": {},
   "outputs": [],
   "source": [
    "x == y           # x is equal to y \n",
    "x!=y             # x is not equal to y\n",
    "x>y              # x is greater than y \n",
    "x<y              #xislessthany\n",
    "x>=y             # x is greater than or equal to y \n",
    "x<=y             #xislessthanorequaltoy \n",
    "x is y           #x is the same as y\n",
    "x is not y       # x is not the same as y"
   ]
  },
  {
   "cell_type": "code",
   "execution_count": null,
   "id": "f4de9911",
   "metadata": {},
   "outputs": [],
   "source": [
    "x = 5; y = 7"
   ]
  },
  {
   "cell_type": "code",
   "execution_count": null,
   "id": "e1286912",
   "metadata": {},
   "outputs": [],
   "source": [
    "x is not y"
   ]
  },
  {
   "cell_type": "code",
   "execution_count": null,
   "id": "3af2ecbf",
   "metadata": {},
   "outputs": [],
   "source": [
    "x = 'python' ; y = 'Python'\n",
    "x is y"
   ]
  },
  {
   "cell_type": "code",
   "execution_count": null,
   "id": "b4c990c6",
   "metadata": {},
   "outputs": [],
   "source": [
    "x = 2.0\n",
    "y = 2.0\n",
    "x == y"
   ]
  },
  {
   "cell_type": "code",
   "execution_count": null,
   "id": "43647be1",
   "metadata": {},
   "outputs": [],
   "source": [
    "x is y"
   ]
  },
  {
   "cell_type": "markdown",
   "id": "95bc8740",
   "metadata": {},
   "source": [
    "### Question: what are 'is' and 'is not' oprators?"
   ]
  },
  {
   "cell_type": "markdown",
   "id": "8ab181d1",
   "metadata": {},
   "source": [
    "#### Logical Operators\n",
    "There are three logical operators\n",
    "- and (&)\n",
    "- or (|)\n",
    "- not (~)"
   ]
  },
  {
   "cell_type": "markdown",
   "id": "f5860b64",
   "metadata": {},
   "source": [
    "## Introduction to the Binary Logic"
   ]
  },
  {
   "cell_type": "markdown",
   "id": "4290f397",
   "metadata": {},
   "source": [
    "## Conditional Execution:"
   ]
  },
  {
   "cell_type": "code",
   "execution_count": null,
   "id": "99be8a38",
   "metadata": {},
   "outputs": [],
   "source": [
    "x = input('Enter and integer: ')\n",
    "y = input('Enter and integer: ')\n",
    "\n",
    "if (x >= '50') & (y <= '10'):\n",
    "    print('x is very large.')\n",
    "    print('Done!')\n",
    "    print('well done!')"
   ]
  },
  {
   "cell_type": "code",
   "execution_count": null,
   "id": "5792d65b",
   "metadata": {},
   "outputs": [],
   "source": [
    "('55' >= '50', '2' <= '10')"
   ]
  },
  {
   "cell_type": "markdown",
   "id": "e3e852ae",
   "metadata": {},
   "source": [
    "### Question: Why ('2' <= '10') is False?"
   ]
  },
  {
   "cell_type": "code",
   "execution_count": null,
   "id": "a1a50662",
   "metadata": {},
   "outputs": [],
   "source": [
    "('a' > 'A')"
   ]
  },
  {
   "cell_type": "code",
   "execution_count": null,
   "id": "0429c358",
   "metadata": {},
   "outputs": [],
   "source": [
    "x = int(input('Enter and integer: '))\n",
    "y = int(input('Enter and integer: '))\n",
    "s = (x > 50) & (y < 10)\n",
    "print(type(s),s)"
   ]
  },
  {
   "cell_type": "markdown",
   "id": "7a103000",
   "metadata": {},
   "source": [
    "## Alternative Execution"
   ]
  },
  {
   "cell_type": "code",
   "execution_count": null,
   "id": "e5e3da90",
   "metadata": {},
   "outputs": [],
   "source": [
    "diameter = input('Enter diameter: ')\n",
    "pi = 3.14\n",
    "if (radius > 0):\n",
    "    radius = int(diameter)/2\n",
    "    area = pi * radius ** 2\n",
    "    print('Area is: ',area)\n",
    "else:\n",
    "    print('Please inter diameter as an integer.')"
   ]
  },
  {
   "cell_type": "code",
   "execution_count": null,
   "id": "2cf982e4",
   "metadata": {},
   "outputs": [],
   "source": [
    "x = int(input('Enter and integer: '))\n",
    "if x > 50:\n",
    "    print('x is very large.')\n",
    "else:\n",
    "    print('x is small.')"
   ]
  },
  {
   "cell_type": "code",
   "execution_count": null,
   "id": "bb956511",
   "metadata": {},
   "outputs": [],
   "source": [
    "x = int(input('Enter an integer: '))\n",
    "if (x > 0 & x%2 == 0):\n",
    "    print('x is Even!')\n",
    "elif (x > 0 & x%2 != 0):\n",
    "    print('x is odd!')\n",
    "else:\n",
    "    print('x is NOT integer')"
   ]
  },
  {
   "cell_type": "markdown",
   "id": "d1ae8117",
   "metadata": {},
   "source": [
    "## Chained Conditionals"
   ]
  },
  {
   "cell_type": "code",
   "execution_count": 44,
   "id": "44ef0b5e",
   "metadata": {},
   "outputs": [
    {
     "name": "stdout",
     "output_type": "stream",
     "text": [
      "Enter and integer: 100\n",
      "x is very large.\n",
      "x is good enough.\n"
     ]
    }
   ],
   "source": [
    "x = int(input('Enter and integer: '))\n",
    "if x > 50:\n",
    "    print('x is very large.')\n",
    "if x < 10:\n",
    "    print('x is very small.')\n",
    "else:\n",
    "    print('x is good enough.')"
   ]
  },
  {
   "cell_type": "markdown",
   "id": "2c946638",
   "metadata": {},
   "source": [
    "## Nested Conditionals"
   ]
  },
  {
   "cell_type": "code",
   "execution_count": null,
   "id": "322201df",
   "metadata": {},
   "outputs": [],
   "source": [
    "x = int(input('Enter and integer: '))\n",
    "y = int(input('Enter and integer: '))\n",
    "\n",
    "if x == y:\n",
    "    print('x and y are equal')\n",
    "else:\n",
    "    if x < y:\n",
    "        print('x is less than y') \n",
    "    else:\n",
    "        print('x is greater than y')"
   ]
  },
  {
   "cell_type": "code",
   "execution_count": null,
   "id": "7cfe99b5",
   "metadata": {},
   "outputs": [],
   "source": [
    "x = int(input('Enter an Integer: '))\n",
    "if x > 0:\n",
    "    if x % 2 == 0:\n",
    "        print('x is even')\n",
    "    else:\n",
    "        print('x is odd')\n",
    "else:\n",
    "    print('x is not integer!')"
   ]
  },
  {
   "cell_type": "code",
   "execution_count": null,
   "id": "6ac49761",
   "metadata": {},
   "outputs": [],
   "source": [
    "x = int(input('Enter an Integer: '))\n",
    "y = int(input('Enter an Integer: '))\n",
    "if (y != 0):\n",
    "    print('q is: ', x//y)\n",
    "    print('r is: ', x%y)\n",
    "\n",
    "else:\n",
    "    print('y is zero!')"
   ]
  },
  {
   "cell_type": "markdown",
   "id": "74e2cc4d",
   "metadata": {},
   "source": [
    "## try, except"
   ]
  },
  {
   "cell_type": "code",
   "execution_count": null,
   "id": "3512f1d3",
   "metadata": {},
   "outputs": [],
   "source": [
    "x = input('Enter an integer:') \n",
    "y = input('Enter a non-zero integer:') \n",
    "\n",
    "x = int(x)\n",
    "y = int(y)\n",
    "q = x//y\n",
    "r = x%y\n",
    "print('q = ',q)\n",
    "print('r = ',r)"
   ]
  },
  {
   "cell_type": "code",
   "execution_count": null,
   "id": "940e2a4d",
   "metadata": {},
   "outputs": [],
   "source": [
    "x = input('Enter an integer:') \n",
    "y = input('Enter a non-zero integer:') \n",
    "\n",
    "try:\n",
    "    x = float(x)\n",
    "    y = float(y)\n",
    "    q = x//y\n",
    "    r = x%y\n",
    "    print('q = ',q)\n",
    "    print('r = ',r)\n",
    "except:\n",
    "    print('Please enter proper x and y')"
   ]
  },
  {
   "cell_type": "markdown",
   "id": "383f15bb",
   "metadata": {},
   "source": [
    "#### Exercise (vscode)\n",
    "1. Take a positive number as the radius of a circle and calculate the area of that circle. Also handle the possible errors. \n",
    "\n",
    "2. Calculate the valume of a rectangle based on its length, width and height. Also handle the possible errors."
   ]
  },
  {
   "cell_type": "markdown",
   "id": "5172a024",
   "metadata": {},
   "source": [
    "## try, except, finally"
   ]
  },
  {
   "cell_type": "code",
   "execution_count": null,
   "id": "191b9a89",
   "metadata": {},
   "outputs": [],
   "source": [
    "x = input('Enter an integer:') \n",
    "y = input('Enter a non-zero integer:') \n",
    "\n",
    "try:\n",
    "    x = int(x)\n",
    "    y = int(y)\n",
    "    q = x//y\n",
    "    r = x%y\n",
    "    print('q = ',q)\n",
    "    print('r = ',r)\n",
    "except:\n",
    "    print('Please enter proper x and y')\n",
    "\n",
    "finally:\n",
    "    print('Done!')"
   ]
  },
  {
   "cell_type": "markdown",
   "id": "ef1a2bf7",
   "metadata": {},
   "source": [
    "# Exercise\n",
    "\n",
    "1. \n",
    "\n",
    "2. \n",
    "\n",
    "3. \n",
    "\n",
    "4. "
   ]
  }
 ],
 "metadata": {
  "kernelspec": {
   "display_name": "Python 3 (ipykernel)",
   "language": "python",
   "name": "python3"
  },
  "language_info": {
   "codemirror_mode": {
    "name": "ipython",
    "version": 3
   },
   "file_extension": ".py",
   "mimetype": "text/x-python",
   "name": "python",
   "nbconvert_exporter": "python",
   "pygments_lexer": "ipython3",
   "version": "3.9.6"
  }
 },
 "nbformat": 4,
 "nbformat_minor": 5
}
