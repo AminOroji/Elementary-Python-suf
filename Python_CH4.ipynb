{
 "cells": [
  {
   "cell_type": "markdown",
   "id": "fe8f3075",
   "metadata": {},
   "source": [
    "# Chapter 4: Iteration\n",
    "\n",
    "## The while statement"
   ]
  },
  {
   "cell_type": "code",
   "execution_count": null,
   "id": "392453ae",
   "metadata": {},
   "outputs": [],
   "source": [
    "# range\n",
    "for i in range(10):\n",
    "    print(i)"
   ]
  },
  {
   "cell_type": "code",
   "execution_count": 2,
   "id": "b61be3fb",
   "metadata": {},
   "outputs": [
    {
     "name": "stdout",
     "output_type": "stream",
     "text": [
      "0 11\n",
      "1 22\n",
      "2 33\n",
      "3 44\n"
     ]
    }
   ],
   "source": [
    "a = [11 , 22, 33, 44]\n",
    "for i, j in enumerate(a):\n",
    "    print(i, j)"
   ]
  },
  {
   "cell_type": "code",
   "execution_count": 3,
   "id": "9efc8c7b",
   "metadata": {},
   "outputs": [
    {
     "name": "stdout",
     "output_type": "stream",
     "text": [
      "a 11\n",
      "b 22\n",
      "c 33\n"
     ]
    }
   ],
   "source": [
    "b = ['a', 'b', 'c']\n",
    "for i,j in zip(a,b):\n",
    "    print(j, i)"
   ]
  },
  {
   "cell_type": "code",
   "execution_count": 16,
   "id": "bf1c25bc",
   "metadata": {},
   "outputs": [
    {
     "name": "stdout",
     "output_type": "stream",
     "text": [
      "5\n",
      "4\n",
      "3\n",
      "2\n",
      "1\n",
      "Done!\n"
     ]
    }
   ],
   "source": [
    "n=5\n",
    "while n > 0:\n",
    "    print(n)\n",
    "    n = n-1 \n",
    "print('Done!')"
   ]
  },
  {
   "cell_type": "markdown",
   "id": "1cb78971",
   "metadata": {},
   "source": [
    "### How it works\n",
    " 1. Evaluate the condition, yielding True or False.\n",
    " 2. If the condition is false, exit the while statement and continue execution at the next statement.\n",
    " 3. If the condition is true, execute the body and then go back to step 1."
   ]
  },
  {
   "cell_type": "markdown",
   "id": "37d719f7",
   "metadata": {},
   "source": [
    "## Infinite Loops"
   ]
  },
  {
   "cell_type": "code",
   "execution_count": null,
   "id": "a434a08d",
   "metadata": {},
   "outputs": [],
   "source": [
    "n = 10 \n",
    "while n <= 10:\n",
    "    print(n, end=' ')\n",
    "    n = n - 1\n",
    "    \n",
    "print('Done!')"
   ]
  },
  {
   "cell_type": "code",
   "execution_count": null,
   "id": "a208e2d0",
   "metadata": {},
   "outputs": [],
   "source": [
    "n = 10\n",
    "try:\n",
    "    while True:\n",
    "        print(n, end = ' ')\n",
    "        n = n + 1\n",
    "except:\n",
    "    print('\\n\\nOver!')"
   ]
  },
  {
   "cell_type": "markdown",
   "id": "72a9cf3c",
   "metadata": {},
   "source": [
    "## Finishing Iterations with break & continue"
   ]
  },
  {
   "cell_type": "code",
   "execution_count": null,
   "id": "6aec6fb0",
   "metadata": {},
   "outputs": [],
   "source": [
    "## use break in infinite loops\n",
    "while True:\n",
    "    line = input('>>> ') \n",
    "    if line == 'done':\n",
    "        break\n",
    "    print(line)\n",
    "print('Done!')"
   ]
  },
  {
   "cell_type": "markdown",
   "id": "d380b734",
   "metadata": {},
   "source": [
    "Sometimes you are in an iteration of a loop and want to finish the current iteration and immediately jump to the next iteration. In that case you can use the ***continue*** statement to skip to the next iteration without finishing the body of the loop for the current iteration.\n"
   ]
  },
  {
   "cell_type": "code",
   "execution_count": null,
   "id": "e39ddb34",
   "metadata": {},
   "outputs": [],
   "source": [
    "while True:\n",
    "    line = input('>>> ') \n",
    "    if line == 'hi':\n",
    "        continue\n",
    "        print('sallaaaammmmm')\n",
    "    if line == 'done':  #### why we use if and do not use elif here?\n",
    "        break\n",
    "    print(line)\n",
    "print('Done!')"
   ]
  },
  {
   "cell_type": "markdown",
   "id": "f4abadf3",
   "metadata": {},
   "source": [
    "## for Loops"
   ]
  },
  {
   "cell_type": "code",
   "execution_count": 12,
   "id": "4b6621ac",
   "metadata": {},
   "outputs": [
    {
     "name": "stdout",
     "output_type": "stream",
     "text": [
      "Amin ----- CEO\n",
      "Armin ----- AI\n",
      "Sahar ----- DMM\n",
      "Milad ----- Support\n",
      "Done!\n"
     ]
    }
   ],
   "source": [
    "employees = ['Amin', 'Armin', 'Sahar', 'Milad'] \n",
    "roles = ['CEO', 'AI', 'DMM', 'Support']\n",
    "for employee, role in zip(employees,roles):\n",
    "    print(employee,'-----',role)\n",
    "print('Done!')"
   ]
  },
  {
   "cell_type": "code",
   "execution_count": null,
   "id": "f6a7daa0",
   "metadata": {},
   "outputs": [],
   "source": []
  },
  {
   "cell_type": "code",
   "execution_count": null,
   "id": "dca2967f",
   "metadata": {},
   "outputs": [],
   "source": [
    "for i in range(10,20):\n",
    "    print(i)"
   ]
  },
  {
   "cell_type": "code",
   "execution_count": null,
   "id": "f343f80a",
   "metadata": {},
   "outputs": [],
   "source": [
    "for i in range(10):\n",
    "    print('still ok!')"
   ]
  },
  {
   "cell_type": "code",
   "execution_count": null,
   "id": "ab4681aa",
   "metadata": {},
   "outputs": [],
   "source": [
    "# counting the number of list elements\n",
    "count = 0\n",
    "lst = [3, 41, 12, 9, 74, 15]\n",
    "for itervar in lst:\n",
    "    count = count + 1\n",
    "print('Count: ', count)"
   ]
  },
  {
   "cell_type": "code",
   "execution_count": null,
   "id": "fd732f5a",
   "metadata": {},
   "outputs": [],
   "source": [
    "len(lst)"
   ]
  },
  {
   "cell_type": "code",
   "execution_count": null,
   "id": "aea9c0da",
   "metadata": {},
   "outputs": [],
   "source": [
    "# \n",
    "total = 0\n",
    "for itervar in lst:\n",
    "    total = total + itervar\n",
    "    print(total)\n",
    "print('Total: ', total)"
   ]
  },
  {
   "cell_type": "code",
   "execution_count": null,
   "id": "5fce3da4",
   "metadata": {},
   "outputs": [],
   "source": [
    "lst"
   ]
  },
  {
   "cell_type": "code",
   "execution_count": null,
   "id": "e8e7b36e",
   "metadata": {},
   "outputs": [],
   "source": [
    "# finding maximum\n",
    "largest = None\n",
    "print('Before:', largest)\n",
    "for itervar in lst:\n",
    "    if largest is None or itervar > largest :\n",
    "        largest = itervar\n",
    "    print('Loop:', itervar, largest)\n",
    "print('Largest:', largest)"
   ]
  },
  {
   "cell_type": "code",
   "execution_count": null,
   "id": "9cc5aaaa",
   "metadata": {},
   "outputs": [],
   "source": [
    "max(lst)"
   ]
  },
  {
   "cell_type": "code",
   "execution_count": null,
   "id": "dc9fd8f5",
   "metadata": {},
   "outputs": [],
   "source": [
    "# finding minimum\n",
    "smallest = None\n",
    "print('Before:', smallest)\n",
    "for itervar in [3, 41, 12, 9, 74, 15]:\n",
    "    if smallest is None or itervar < smallest: \n",
    "        smallest = itervar\n",
    "    print('Loop:', itervar, smallest)\n",
    "print('Smallest:', smallest)"
   ]
  },
  {
   "cell_type": "code",
   "execution_count": null,
   "id": "c7a646f6",
   "metadata": {},
   "outputs": [],
   "source": [
    "print('Max: ', max(lst))\n",
    "print('min: ', min(lst))"
   ]
  },
  {
   "cell_type": "code",
   "execution_count": null,
   "id": "01287076",
   "metadata": {},
   "outputs": [],
   "source": [
    "x = None\n",
    "type(x)"
   ]
  },
  {
   "cell_type": "code",
   "execution_count": null,
   "id": "052f378e",
   "metadata": {},
   "outputs": [],
   "source": [
    "# EXE\n",
    "d = dict()\n",
    "while True:\n",
    "    first = input('Enter Your First Name: ')\n",
    "    if first == 'done': \n",
    "        break\n",
    "    last = input('Enter Your Last Name: ')\n",
    "    email = input('Enter Your email Address: ')\n",
    "    make_dictionary(d,first,last,email)\n",
    "    \n",
    "print(d)"
   ]
  },
  {
   "cell_type": "markdown",
   "id": "32970200",
   "metadata": {},
   "source": [
    "## Exersice"
   ]
  },
  {
   "cell_type": "markdown",
   "id": "84bbf060",
   "metadata": {},
   "source": [
    "1. Calculate the suqare root of x using Newton’s method (epsilon = 0.000001).\n",
    "\n",
    "2. use Srinivasa Ramanujan formula to compute and return an estimate of $\\Pi$. It should use a while loop to compute terms of the summation until the last term is smaller than 1e-15. \n",
    "\n",
    "3. Create a Python Script where you find all prime numbers between 1 and 200.\n"
   ]
  },
  {
   "cell_type": "code",
   "execution_count": null,
   "id": "6ad310d8",
   "metadata": {},
   "outputs": [],
   "source": []
  }
 ],
 "metadata": {
  "kernelspec": {
   "display_name": "Python 3 (ipykernel)",
   "language": "python",
   "name": "python3"
  },
  "language_info": {
   "codemirror_mode": {
    "name": "ipython",
    "version": 3
   },
   "file_extension": ".py",
   "mimetype": "text/x-python",
   "name": "python",
   "nbconvert_exporter": "python",
   "pygments_lexer": "ipython3",
   "version": "3.9.6"
  }
 },
 "nbformat": 4,
 "nbformat_minor": 5
}
