{
 "cells": [
  {
   "cell_type": "markdown",
   "id": "ffadea8b",
   "metadata": {},
   "source": [
    "## Write a python function to take a string as an input and return its reverse."
   ]
  },
  {
   "cell_type": "code",
   "execution_count": 3,
   "id": "59b78be6",
   "metadata": {},
   "outputs": [
    {
     "data": {
      "text/plain": [
       "'fedcba'"
      ]
     },
     "execution_count": 3,
     "metadata": {},
     "output_type": "execute_result"
    }
   ],
   "source": [
    "s = 'abcdef'\n",
    "lst = list(s)\n",
    "lst.reverse()\n",
    "''.join(lst)"
   ]
  },
  {
   "cell_type": "code",
   "execution_count": null,
   "id": "dd56bd55",
   "metadata": {},
   "outputs": [],
   "source": []
  },
  {
   "cell_type": "markdown",
   "id": "6a7a5790",
   "metadata": {},
   "source": [
    "## 1. Write a Python script to generate and print a dictionary that contains a number (between 1 and n) in the form (x, x*x)\n",
    "\n",
    "Sample Dictionary ( n = 5)\n",
    "\n",
    "Expected Output : {1: 1, 2: 4, 3: 9, 4: 16, 5: 25}"
   ]
  },
  {
   "cell_type": "code",
   "execution_count": null,
   "id": "eec29a20",
   "metadata": {},
   "outputs": [],
   "source": []
  },
  {
   "cell_type": "markdown",
   "id": "c44dd8e0",
   "metadata": {},
   "source": [
    "## 2. Write a Python script to merge two Python dictionaries."
   ]
  },
  {
   "cell_type": "code",
   "execution_count": null,
   "id": "7c39f426",
   "metadata": {},
   "outputs": [],
   "source": []
  },
  {
   "cell_type": "markdown",
   "id": "f2b868f0",
   "metadata": {},
   "source": [
    "## 3. Write a Python program to find the key of the maximum value in a dictionary. \n",
    "\n",
    "dictionary elements:\n",
    "\n",
    "{'Theodore': 19, 'Roxanne': 22, 'Mathew': 21, 'Betty': 20}\n",
    "\n",
    "Finds the key of the maximum and minimum value of the said dictionary:\n",
    "\n",
    "('Roxanne', 'Theodore')"
   ]
  },
  {
   "cell_type": "code",
   "execution_count": null,
   "id": "ea638f1c",
   "metadata": {},
   "outputs": [],
   "source": []
  },
  {
   "cell_type": "markdown",
   "id": "e050906c",
   "metadata": {},
   "source": [
    "## 4. Write a Python program to convert a given dictionary to a list of tuples. \n",
    "\n",
    "Sample Output:\n",
    "\n",
    "Original Dictionary:\n",
    "\n",
    "{'Red': 1, 'Green': 3, 'White': 5, 'Black': 2, 'Pink': 4}\n",
    "\n",
    "Convert the said dictionary to a list of tuples:\n",
    "\n",
    "[('Red', 1), ('Green', 3), ('White', 5), ('Black', 2), ('Pink', 4)]"
   ]
  },
  {
   "cell_type": "code",
   "execution_count": 2,
   "id": "931fad91",
   "metadata": {},
   "outputs": [],
   "source": [
    "def convert_dic_to_list(dictionary):\n",
    "    lst = list(dictionary.items())\n",
    "    return lst"
   ]
  },
  {
   "cell_type": "code",
   "execution_count": 3,
   "id": "b0675137",
   "metadata": {},
   "outputs": [
    {
     "name": "stdout",
     "output_type": "stream",
     "text": [
      "Enter an input: aminorojibsdh\n",
      "[('a', 1), ('m', 1), ('i', 2), ('n', 1), ('o', 2), ('r', 1), ('j', 1), ('b', 1), ('s', 1), ('d', 1), ('h', 1)]\n",
      "Enter an input: done\n"
     ]
    }
   ],
   "source": [
    "while True:\n",
    "    d = dict()\n",
    "    inp = input('Enter an input: ')\n",
    "    if inp == 'done': break\n",
    "    for item in inp:\n",
    "        if item not in d:\n",
    "            d[item] = 1\n",
    "        else:\n",
    "            d[item] += 1\n",
    "    print(convert_dic_to_list(d))"
   ]
  },
  {
   "cell_type": "code",
   "execution_count": 4,
   "id": "6b798599",
   "metadata": {},
   "outputs": [
    {
     "data": {
      "text/plain": [
       "{}"
      ]
     },
     "execution_count": 4,
     "metadata": {},
     "output_type": "execute_result"
    }
   ],
   "source": [
    "d"
   ]
  },
  {
   "cell_type": "code",
   "execution_count": null,
   "id": "e6a08261",
   "metadata": {},
   "outputs": [],
   "source": []
  },
  {
   "cell_type": "code",
   "execution_count": null,
   "id": "22389c11",
   "metadata": {},
   "outputs": [],
   "source": []
  },
  {
   "cell_type": "markdown",
   "id": "62f172ee",
   "metadata": {},
   "source": [
    "## 5. Write a python program to take a string as an input and return the times that each word (character) was repeated."
   ]
  },
  {
   "cell_type": "code",
   "execution_count": null,
   "id": "5afe08c1",
   "metadata": {},
   "outputs": [],
   "source": []
  },
  {
   "cell_type": "markdown",
   "id": "6f202846",
   "metadata": {},
   "source": [
    "## 6. Write a Python program to convert the values of RGB components to a hexadecimal color code"
   ]
  },
  {
   "cell_type": "code",
   "execution_count": null,
   "id": "87a50ce6",
   "metadata": {},
   "outputs": [],
   "source": []
  },
  {
   "cell_type": "markdown",
   "id": "f0171369",
   "metadata": {},
   "source": [
    "## 7. Write a Python program to extract numbers from a given string."
   ]
  },
  {
   "cell_type": "code",
   "execution_count": null,
   "id": "24ed48bc",
   "metadata": {},
   "outputs": [],
   "source": [
    "'abcds12gfh78hjk' ------> 1278"
   ]
  },
  {
   "cell_type": "code",
   "execution_count": 11,
   "id": "d4b7bc02",
   "metadata": {},
   "outputs": [],
   "source": [
    "def isDigit(s):\n",
    "    lst = [str(item) for item in range(10)]\n",
    "    digits = []\n",
    "    for item in s:\n",
    "        if item in lst:\n",
    "            digits.append(item)\n",
    "    digits = set(digits)\n",
    "    digits = ''.join(digits)\n",
    "    return digits\n"
   ]
  },
  {
   "cell_type": "code",
   "execution_count": 12,
   "id": "64e05ec3",
   "metadata": {},
   "outputs": [
    {
     "name": "stdout",
     "output_type": "stream",
     "text": [
      "Enter Something: 1234345\n",
      "41253\n",
      "Enter Something: abcd1232eff5468\n",
      "4182536\n",
      "Enter Something: done\n"
     ]
    }
   ],
   "source": [
    "while True:\n",
    "    inp = input(\"Enter Something: \")\n",
    "    if inp == 'done': break\n",
    "    lst = isDigit(inp)\n",
    "    print(lst)"
   ]
  },
  {
   "cell_type": "code",
   "execution_count": null,
   "id": "0ba96c54",
   "metadata": {},
   "outputs": [],
   "source": []
  },
  {
   "cell_type": "code",
   "execution_count": null,
   "id": "a0e4cac5",
   "metadata": {},
   "outputs": [],
   "source": []
  },
  {
   "cell_type": "markdown",
   "id": "aa7787ff",
   "metadata": {},
   "source": [
    "## 8. Write a Python program to remove duplicate words from a given string"
   ]
  },
  {
   "cell_type": "code",
   "execution_count": null,
   "id": "b049ed54",
   "metadata": {},
   "outputs": [],
   "source": []
  },
  {
   "cell_type": "markdown",
   "id": "32748079",
   "metadata": {},
   "source": [
    "## 9. Write a Python code to remove all characters except a specified character in a given string"
   ]
  },
  {
   "cell_type": "code",
   "execution_count": null,
   "id": "342a1e69",
   "metadata": {},
   "outputs": [],
   "source": []
  },
  {
   "cell_type": "markdown",
   "id": "aafe9922",
   "metadata": {},
   "source": [
    "## 10. Write a Python program to get a list, sorted in increasing order by the last element in each tuple from a given list of non-empty tuples.\n",
    "\n",
    "Sample List : [(2, 5), (1, 2), (4, 4), (2, 3), (2, 1)]\n",
    "\n",
    "Expected Result : [(2, 1), (1, 2), (2, 3), (4, 4), (2, 5)]"
   ]
  },
  {
   "cell_type": "code",
   "execution_count": null,
   "id": "c1035798",
   "metadata": {},
   "outputs": [],
   "source": []
  },
  {
   "cell_type": "markdown",
   "id": "e2e95000",
   "metadata": {},
   "source": [
    "## 11. Write a Python program to convert a list of multiple integers into a single integer. \n",
    "\n",
    "Sample list: [11, 33, 50]\n",
    "\n",
    "Expected Output: 113350"
   ]
  },
  {
   "cell_type": "code",
   "execution_count": null,
   "id": "bdf6e1b1",
   "metadata": {},
   "outputs": [],
   "source": []
  },
  {
   "cell_type": "markdown",
   "id": "ef4c9cf7",
   "metadata": {},
   "source": [
    "## 12. Write a Python program to check if the elements of the first list are contained in the second one regardless of order."
   ]
  },
  {
   "cell_type": "code",
   "execution_count": null,
   "id": "3717d22c",
   "metadata": {},
   "outputs": [],
   "source": []
  },
  {
   "cell_type": "markdown",
   "id": "56cc0395",
   "metadata": {},
   "source": [
    "## 13. Write a Python program to generate a list, containing the Fibonacci sequence, up until the nth term"
   ]
  },
  {
   "cell_type": "code",
   "execution_count": null,
   "id": "5543784c",
   "metadata": {},
   "outputs": [],
   "source": []
  },
  {
   "cell_type": "markdown",
   "id": "ebb7b05f",
   "metadata": {},
   "source": [
    "## 14. Write a Python program to perform a deep flattens a list.\n",
    "\n",
    "Sample Output:\n",
    "\n",
    "Original list elements:\\\n",
    "[1, [2], [[3], [4], 5], 6]\n",
    "\n",
    "Deep flatten the said list:\\\n",
    "[1, 2, 3, 4, 5, 6]\n",
    "\n",
    "Original list elements:\\\n",
    "[[[1, 2, 3], [4, 5]], 6]\n",
    "\n",
    "Deep flatten the said list:\\\n",
    "[1, 2, 3, 4, 5, 6]"
   ]
  },
  {
   "cell_type": "code",
   "execution_count": null,
   "id": "2c92c871",
   "metadata": {},
   "outputs": [],
   "source": []
  },
  {
   "cell_type": "markdown",
   "id": "582248de",
   "metadata": {},
   "source": [
    "## 15. Write a Python program to get the weighted average of two or more numbers. Go to the editor\n",
    "\n",
    "Sample Output:\n",
    "\n",
    "Original list elements:\\\n",
    "[10, 50, 40]\\\n",
    "[2, 5, 3]\\\n",
    "Weighted average of the said two list of numbers:\\\n",
    "39.0\n",
    "\n",
    "Original list elements:\\\n",
    "[82, 90, 76, 83]\\\n",
    "[0.2, 0.35, 0.45, 32]\\\n",
    "Weighted average of the said two list of numbers:\\\n",
    "82.97272727272727"
   ]
  },
  {
   "cell_type": "code",
   "execution_count": 4,
   "id": "29ae35a6",
   "metadata": {},
   "outputs": [],
   "source": [
    "d = dict()"
   ]
  },
  {
   "cell_type": "code",
   "execution_count": 5,
   "id": "3da7d84e",
   "metadata": {},
   "outputs": [
    {
     "data": {
      "text/plain": [
       "['__class__',\n",
       " '__class_getitem__',\n",
       " '__contains__',\n",
       " '__delattr__',\n",
       " '__delitem__',\n",
       " '__dir__',\n",
       " '__doc__',\n",
       " '__eq__',\n",
       " '__format__',\n",
       " '__ge__',\n",
       " '__getattribute__',\n",
       " '__getitem__',\n",
       " '__gt__',\n",
       " '__hash__',\n",
       " '__init__',\n",
       " '__init_subclass__',\n",
       " '__ior__',\n",
       " '__iter__',\n",
       " '__le__',\n",
       " '__len__',\n",
       " '__lt__',\n",
       " '__ne__',\n",
       " '__new__',\n",
       " '__or__',\n",
       " '__reduce__',\n",
       " '__reduce_ex__',\n",
       " '__repr__',\n",
       " '__reversed__',\n",
       " '__ror__',\n",
       " '__setattr__',\n",
       " '__setitem__',\n",
       " '__sizeof__',\n",
       " '__str__',\n",
       " '__subclasshook__',\n",
       " 'clear',\n",
       " 'copy',\n",
       " 'fromkeys',\n",
       " 'get',\n",
       " 'items',\n",
       " 'keys',\n",
       " 'pop',\n",
       " 'popitem',\n",
       " 'setdefault',\n",
       " 'update',\n",
       " 'values']"
      ]
     },
     "execution_count": 5,
     "metadata": {},
     "output_type": "execute_result"
    }
   ],
   "source": [
    "dir(d)"
   ]
  },
  {
   "cell_type": "code",
   "execution_count": 6,
   "id": "8a9d35ef",
   "metadata": {},
   "outputs": [
    {
     "name": "stdout",
     "output_type": "stream",
     "text": [
      "Help on built-in function update:\n",
      "\n",
      "update(...) method of builtins.dict instance\n",
      "    D.update([E, ]**F) -> None.  Update D from dict/iterable E and F.\n",
      "    If E is present and has a .keys() method, then does:  for k in E: D[k] = E[k]\n",
      "    If E is present and lacks a .keys() method, then does:  for k, v in E: D[k] = v\n",
      "    In either case, this is followed by: for k in F:  D[k] = F[k]\n",
      "\n"
     ]
    }
   ],
   "source": []
  },
  {
   "cell_type": "code",
   "execution_count": 7,
   "id": "1824a493",
   "metadata": {},
   "outputs": [
    {
     "data": {
      "text/plain": [
       "[('Theodore', 19), ('Roxanne', 22), ('Mathew', 21), ('Betty', 20)]"
      ]
     },
     "execution_count": 7,
     "metadata": {},
     "output_type": "execute_result"
    }
   ],
   "source": [
    "d = {'Theodore': 19, 'Roxanne': 22, 'Mathew': 21, 'Betty': 20}\n",
    "lst = list(d.items())\n",
    "lst"
   ]
  },
  {
   "cell_type": "code",
   "execution_count": 8,
   "id": "753de93b",
   "metadata": {},
   "outputs": [
    {
     "data": {
      "text/plain": [
       "('Theodore', 19)"
      ]
     },
     "execution_count": 8,
     "metadata": {},
     "output_type": "execute_result"
    }
   ],
   "source": [
    "max(lst)"
   ]
  },
  {
   "cell_type": "code",
   "execution_count": null,
   "id": "d91ca5c1",
   "metadata": {},
   "outputs": [],
   "source": []
  }
 ],
 "metadata": {
  "kernelspec": {
   "display_name": "Python 3 (ipykernel)",
   "language": "python",
   "name": "python3"
  },
  "language_info": {
   "codemirror_mode": {
    "name": "ipython",
    "version": 3
   },
   "file_extension": ".py",
   "mimetype": "text/x-python",
   "name": "python",
   "nbconvert_exporter": "python",
   "pygments_lexer": "ipython3",
   "version": "3.9.6"
  }
 },
 "nbformat": 4,
 "nbformat_minor": 5
}
