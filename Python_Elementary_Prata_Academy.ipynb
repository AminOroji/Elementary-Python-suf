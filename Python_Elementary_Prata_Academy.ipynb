{
 "cells": [
  {
   "cell_type": "markdown",
   "id": "8eab9c0a",
   "metadata": {},
   "source": [
    "# Elementary Python Course \n",
    "## By: Dr. Amin Oroji\n",
    "##    Chief Data Scientist \n",
    "##    Prata Technology"
   ]
  },
  {
   "cell_type": "markdown",
   "id": "66afc204",
   "metadata": {},
   "source": [
    "# Python\n",
    "\n",
    "- An open source \n",
    "\n",
    "- cross-platform programming language\n",
    "\n",
    "- become increasingly popular over the last ten years\n",
    "\n",
    "- It was first released in 1991\n",
    "\n",
    "- A multi-purpose programming languages (due to its many extensions)\n",
    "- examples are **scientific computing** and **calculations**, **simulations**, **web development** (using, e.g., the Django Web framework), **Data Analytics**, etc.\n",
    "- Interpreted Programming language"
   ]
  },
  {
   "cell_type": "markdown",
   "id": "85dbe2ee",
   "metadata": {},
   "source": [
    "## ***WHY Python?***\n",
    "\n",
    "- open source and free.\n",
    "\n",
    "- highly extendable due to its high number of free available Python Packaged and Libraries. \n",
    "\n",
    "- simple, flexible code structure and easy to learn.\n",
    "\n",
    "- can be used on all platforms (Windows, macOS and Linux).\n",
    "\n",
    "- The popularity of Python is growing fast.\n",
    "\n",
    "- Multi-purpose programming language. \n",
    "\n",
    "- It has efficient high-level data structures.\n",
    "\n",
    "- has simple but effective approach to object-oriented programming (OOP). "
   ]
  },
  {
   "cell_type": "markdown",
   "id": "a674c61c",
   "metadata": {},
   "source": [
    "## Chapter1: Getting Started"
   ]
  },
  {
   "cell_type": "markdown",
   "id": "70f1b9b8",
   "metadata": {},
   "source": [
    "for the main source please click [here](https://github.com/AminOroji/Elementary-Python-suf)"
   ]
  },
  {
   "cell_type": "markdown",
   "id": "8e548701",
   "metadata": {},
   "source": [
    "### Python Installation on Windows"
   ]
  },
  {
   "cell_type": "markdown",
   "id": "0d38f6eb",
   "metadata": {},
   "source": [
    "**Step 1: Select Version of Python to Install**\\\n",
    "**Step 2: Download Python Executable Installer**\\\n",
    "Open your web browser and navigate to the [Downloads for Windows section](https://www.python.org/downloads/windows/) of the [official Python website](https://www.python.org/).\\\n",
    "**Step 3: Run Executable Installer**\\\n",
    "- Run the Python Installer once downloaded. (In this example, we have downloaded Python 3.7.3.)\n",
    "\n",
    "\n",
    "- Make sure you select the Install launcher for all users and Add Python 3.7 to PATH checkboxes.\\\n",
    "The latter places the interpreter in the execution path. For older versions of Python that do not support the Add Python to Path checkbox, see Step 6.\n",
    "\n",
    "\n",
    "- Select Install Now – the recommended installation options.\\\n",
    "For all recent versions of Python, the recommended installation options include Pip and IDLE. Older versions might not include such additional features.\n",
    "\n",
    "\n",
    "- The next dialog will prompt you to select whether to Disable path length limit. Choosing this option will allow Python to bypass the 260-character MAX_PATH limit. Effectively, it will enable Python to use long path names.\n",
    "\n",
    "**Step 4: Verify Python Was Installed On Windows**\n",
    "- Navigate to the directory in which Python was installed on the system. In our case, it is C:\\Users\\Username\\AppData\\Local\\Programs\\Python\\Python37 since we have installed the latest version.\n",
    "\n",
    "\n",
    "- Double-click python.exe.\n",
    "\n",
    "**Step 5: Verify Pip Was Installed**\n",
    "If you opted to install an older version of Python, it is possible that it did not come with Pip preinstalled. Pip is a powerful package management system for Python software packages. Thus, make sure that you have it installed.\n",
    "\n",
    "We recommend using Pip for most Python packages, especially when working in virtual environments.\n",
    "\n",
    "To verify whether Pip was installed:\n",
    "\n",
    "- Open the Start menu and type \"cmd.\"\n",
    "- Select the Command Prompt application.\n",
    "- Enter pip -V in the console.\n",
    "\n",
    "Pip has not been installed yet if you get the following output:\n",
    "\n",
    "```\n",
    "'pip' is not recognized as an internal or external command,\n",
    "Operable program or batch file\n",
    "```\n",
    "\n",
    "**Step 6: Add Python Path to Environment Variables (Optional)**\n",
    "We recommend you go through this step if your version of the Python installer does not include the Add Python to PATH checkbox or if you have not selected that option.\n",
    "\n",
    "Setting up the Python path to system variables alleviates the need for using full paths. It instructs Windows to look through all the PATH folders for “python” and find the install folder that contains the python.exe file.\n",
    "\n",
    "- Open the Start menu and start the Run app.\n",
    "\n",
    "- Type sysdm.cpl and click OK. This opens the System Properties window.\n",
    "\n",
    "- Navigate to the Advanced tab and select Environment Variables.\n",
    "\n",
    "- Under System Variables, find and select the Path variable.\n",
    "\n",
    "- Click Edit.\n",
    "\n",
    "- Select the Variable value field. Add the path to the python.exe file preceded with a semicolon (;). For example, ```;C:\\Python34.```\n",
    "\n",
    "- Click OK and close all windows.\n",
    "\n",
    "By setting this up, you can execute Python scripts like this: ```Python script.py```\n",
    "\n",
    "Instead of this: ```C:/Python34/Python script.py```\n",
    "\n",
    "As you can see, it is cleaner and more manageable.\n",
    "\n",
    "**Step 7: Install virtualnv (Optional)**\n",
    "You have Python, and you have Pip to manage packages. Now, you need one last software package - virtualnv. Virtualnv enables you to create isolated local virtual environments for your Python projects.\n",
    "\n",
    "***Why use virtualnv?***\n",
    "\n",
    "Python software packages are installed system-wide by default. Consequently, whenever a single project-specific package is changed, it changes for all your Python projects. You would want to avoid this, and having separate virtual environments for each project is the easiest solution.\n",
    "\n",
    "To install virtualnv:\n",
    "\n",
    "1. Open the Start menu and type \"cmd.\"\n",
    "\n",
    "2. Select the Command Prompt application.\n",
    "\n",
    "3. Type the following pip command in the console:\n",
    "\n",
    "```C:\\Users\\Username> pip install virtualenv```\n",
    "\n",
    "Upon completion, virtualnv is installed on your system."
   ]
  },
  {
   "cell_type": "markdown",
   "id": "4664d730",
   "metadata": {},
   "source": [
    "### Python IDEs\n",
    "- [vscode](https://code.visualstudio.com/download)\n",
    "\n",
    "\n",
    "- [sublim](https://www.sublimetext.com/download)"
   ]
  },
  {
   "cell_type": "markdown",
   "id": "6b6c4274",
   "metadata": {},
   "source": [
    "### Jupyter Notebook\n",
    "\n",
    "Jupyter Notebook is an open-source web application that allows you to create and share documents that contain live code, equations, visualizations, and narrative text. Uses include data cleaning and transformation, numerical simulation, statistical modeling, data visualization, machine learning, and much more.\n",
    "\n",
    "Jupyter has support for over 40 different programming languages and Python is one of them. Python is a requirement (Python 3.3 or greater, or Python 2.7) for installing the Jupyter Notebook itself.\n",
    "\n",
    "\n",
    "#### Installing Jupyter Notebook using pip:\n",
    "PIP is a package management system used to install and manage software packages/libraries written in Python. These files are stored in a large **on-line repository** termed as Python Package Index (PyPI).\n",
    "pip uses PyPI as the default source for packages and their dependencies.\n",
    "\n",
    "To install Jupyter using pip, we need to first check if pip is updated in our system. \n",
    "- Use the following command to update pip:\n",
    "\n",
    "```python -m pip install --upgrade pip```\n",
    "\n",
    "After updating the pip version, follow the instructions provided below to install Jupyter:\n",
    "\n",
    "- Command to install Jupyter:\n",
    "\n",
    "```python -m pip install jupyter```\n",
    "\n",
    "- Launching Jupyter:\n",
    "Use the following command to launch Jupyter using command-line:\n",
    "\n",
    "```jupyter notebook```"
   ]
  },
  {
   "cell_type": "markdown",
   "id": "6c332605",
   "metadata": {},
   "source": [
    "### Google Colab\n",
    "\n"
   ]
  },
  {
   "cell_type": "markdown",
   "id": "83578f23",
   "metadata": {},
   "source": [
    "### Let's Play (Using Python as a Calculator)"
   ]
  },
  {
   "cell_type": "code",
   "execution_count": 5,
   "id": "52f9d443",
   "metadata": {},
   "outputs": [
    {
     "data": {
      "text/plain": [
       "12"
      ]
     },
     "execution_count": 5,
     "metadata": {},
     "output_type": "execute_result"
    }
   ],
   "source": [
    "2 + 2\n",
    "3 * 4"
   ]
  },
  {
   "cell_type": "code",
   "execution_count": 2,
   "id": "9ec67bc0",
   "metadata": {},
   "outputs": [
    {
     "data": {
      "text/plain": [
       "20"
      ]
     },
     "execution_count": 2,
     "metadata": {},
     "output_type": "execute_result"
    }
   ],
   "source": [
    "50 - 5*6"
   ]
  },
  {
   "cell_type": "code",
   "execution_count": 3,
   "id": "737a68bd",
   "metadata": {},
   "outputs": [
    {
     "data": {
      "text/plain": [
       "5.0"
      ]
     },
     "execution_count": 3,
     "metadata": {},
     "output_type": "execute_result"
    }
   ],
   "source": [
    "(50 - 5*6) / 4"
   ]
  },
  {
   "cell_type": "code",
   "execution_count": 4,
   "id": "2ceb34c6",
   "metadata": {},
   "outputs": [
    {
     "data": {
      "text/plain": [
       "1.6"
      ]
     },
     "execution_count": 4,
     "metadata": {},
     "output_type": "execute_result"
    }
   ],
   "source": [
    "8 / 5"
   ]
  },
  {
   "cell_type": "code",
   "execution_count": 6,
   "id": "8298aee3",
   "metadata": {},
   "outputs": [
    {
     "name": "stdout",
     "output_type": "stream",
     "text": [
      "5.666666666666667\n",
      "5\n",
      "2\n",
      "17\n",
      "1024\n"
     ]
    }
   ],
   "source": [
    "print(17 / 3)  # classic division returns a float\n",
    "print(17 // 3)  # floor division discards the fractional part\n",
    "print(17 % 3)  # the % operator returns the remainder of the division\n",
    "print(5 * 3 + 2)\n",
    "print(2 ** 10)"
   ]
  },
  {
   "cell_type": "code",
   "execution_count": 7,
   "id": "65167ce3",
   "metadata": {},
   "outputs": [
    {
     "data": {
      "text/plain": [
       "900"
      ]
     },
     "execution_count": 7,
     "metadata": {},
     "output_type": "execute_result"
    }
   ],
   "source": [
    "width = 20\n",
    "height = 5 * 9\n",
    "width * height"
   ]
  },
  {
   "cell_type": "markdown",
   "id": "8413e27e",
   "metadata": {},
   "source": [
    "In interactive mode, the last printed expression is assigned to the variable _. This means that when you are using Python as a desk calculator, it is somewhat easier to continue calculations, for example:"
   ]
  },
  {
   "cell_type": "code",
   "execution_count": 8,
   "id": "e418b152",
   "metadata": {},
   "outputs": [
    {
     "data": {
      "text/plain": [
       "12.5625"
      ]
     },
     "execution_count": 8,
     "metadata": {},
     "output_type": "execute_result"
    }
   ],
   "source": [
    "tax = 12.5 / 100\n",
    "price = 100.50\n",
    "price * tax"
   ]
  },
  {
   "cell_type": "code",
   "execution_count": 9,
   "id": "e299edcb",
   "metadata": {},
   "outputs": [
    {
     "data": {
      "text/plain": [
       "113.0625"
      ]
     },
     "execution_count": 9,
     "metadata": {},
     "output_type": "execute_result"
    }
   ],
   "source": [
    "price + _"
   ]
  },
  {
   "cell_type": "code",
   "execution_count": 10,
   "id": "543662f9",
   "metadata": {},
   "outputs": [
    {
     "data": {
      "text/plain": [
       "113.06"
      ]
     },
     "execution_count": 10,
     "metadata": {},
     "output_type": "execute_result"
    }
   ],
   "source": [
    "round(_, 2)"
   ]
  },
  {
   "cell_type": "code",
   "execution_count": null,
   "id": "b67576a3",
   "metadata": {},
   "outputs": [],
   "source": [
    "'spam eggs'  # single quotes"
   ]
  },
  {
   "cell_type": "code",
   "execution_count": null,
   "id": "bace03df",
   "metadata": {},
   "outputs": [],
   "source": [
    "'doesn\\'t'  # use \\' to escape the single quote..."
   ]
  },
  {
   "cell_type": "code",
   "execution_count": null,
   "id": "f38f616d",
   "metadata": {},
   "outputs": [],
   "source": [
    "\"doesn't\"  # ...or use double quotes instead"
   ]
  },
  {
   "cell_type": "code",
   "execution_count": null,
   "id": "774d2103",
   "metadata": {},
   "outputs": [],
   "source": [
    "'\"Yes,\" they said.'"
   ]
  },
  {
   "cell_type": "code",
   "execution_count": null,
   "id": "d4b3a877",
   "metadata": {},
   "outputs": [],
   "source": [
    "\"\\\"Yes,\\\" they said.\""
   ]
  },
  {
   "cell_type": "code",
   "execution_count": null,
   "id": "31329b47",
   "metadata": {},
   "outputs": [],
   "source": [
    "'\"Isn\\'t,\" they said.'"
   ]
  },
  {
   "cell_type": "code",
   "execution_count": null,
   "id": "2181232c",
   "metadata": {},
   "outputs": [],
   "source": [
    "print('\"Isn\\'t,\" they said.')"
   ]
  },
  {
   "cell_type": "code",
   "execution_count": null,
   "id": "b174ddc5",
   "metadata": {},
   "outputs": [],
   "source": [
    "s = 'First line.\\nSecond line.'  # \\n means newline\n",
    "s  # without print(), \\n is included in the output"
   ]
  },
  {
   "cell_type": "code",
   "execution_count": null,
   "id": "0a8e0266",
   "metadata": {},
   "outputs": [],
   "source": [
    "print(s)"
   ]
  },
  {
   "cell_type": "code",
   "execution_count": null,
   "id": "2394fdf8",
   "metadata": {},
   "outputs": [],
   "source": [
    "print(\"\"\"\\\n",
    "Usage: thingy [OPTIONS]\n",
    "     -h                        Display this usage message\n",
    "     -H hostname               Hostname to connect to\n",
    "\"\"\")"
   ]
  },
  {
   "cell_type": "code",
   "execution_count": null,
   "id": "998416e4",
   "metadata": {},
   "outputs": [],
   "source": [
    "print(3 * 'un' + 'ium')\n",
    "print(3 * ('un' + 'ium'))"
   ]
  },
  {
   "cell_type": "code",
   "execution_count": null,
   "id": "33f41852",
   "metadata": {},
   "outputs": [],
   "source": [
    "'Py' 'thon'"
   ]
  },
  {
   "cell_type": "markdown",
   "id": "1582c316",
   "metadata": {},
   "source": [
    "## Chapter2: Variables, expressions, and statements\n",
    "\n",
    "### Values and types"
   ]
  },
  {
   "cell_type": "code",
   "execution_count": 10,
   "id": "297263f5",
   "metadata": {},
   "outputs": [
    {
     "data": {
      "text/plain": [
       "(int, str)"
      ]
     },
     "execution_count": 10,
     "metadata": {},
     "output_type": "execute_result"
    }
   ],
   "source": [
    "x = 2\n",
    "type(x)"
   ]
  },
  {
   "cell_type": "code",
   "execution_count": 2,
   "id": "0c048902",
   "metadata": {},
   "outputs": [
    {
     "data": {
      "text/plain": [
       "str"
      ]
     },
     "execution_count": 2,
     "metadata": {},
     "output_type": "execute_result"
    }
   ],
   "source": [
    "string = 'Hello World!'\n",
    "type(string)"
   ]
  },
  {
   "cell_type": "code",
   "execution_count": 3,
   "id": "cd07b81e",
   "metadata": {},
   "outputs": [
    {
     "data": {
      "text/plain": [
       "float"
      ]
     },
     "execution_count": 3,
     "metadata": {},
     "output_type": "execute_result"
    }
   ],
   "source": [
    "pi = 3.1415926535897931\n",
    "type(pi)"
   ]
  },
  {
   "cell_type": "code",
   "execution_count": 15,
   "id": "671610ef",
   "metadata": {},
   "outputs": [
    {
     "name": "stdout",
     "output_type": "stream",
     "text": [
      "Type of 'x' is:  <class 'int'>\n",
      "Type of 'y' is:  <class 'str'>\n"
     ]
    }
   ],
   "source": [
    "x = 2\n",
    "y = '2'\n",
    "print(\"Type of 'x' is: \",type(x))\n",
    "print(\"Type of 'y' is: \", type(y))"
   ]
  },
  {
   "cell_type": "code",
   "execution_count": 17,
   "id": "cb0d6ebb",
   "metadata": {},
   "outputs": [
    {
     "name": "stdout",
     "output_type": "stream",
     "text": [
      "Type of \"bl\" is:  <class 'bool'>\n",
      "Type of \"st\" is:  <class 'str'>\n"
     ]
    }
   ],
   "source": [
    "bl = True\n",
    "st = 'True'\n",
    "print('Type of \"bl\" is: ',type(bl))\n",
    "print('Type of \"st\" is: ', type(st))"
   ]
  },
  {
   "cell_type": "markdown",
   "id": "1819521e",
   "metadata": {},
   "source": [
    "### Variable names and keywords"
   ]
  },
  {
   "cell_type": "code",
   "execution_count": 18,
   "id": "b2c76f84",
   "metadata": {},
   "outputs": [
    {
     "ename": "SyntaxError",
     "evalue": "invalid syntax (<ipython-input-18-ee59a172c534>, line 1)",
     "output_type": "error",
     "traceback": [
      "\u001b[0;36m  File \u001b[0;32m\"<ipython-input-18-ee59a172c534>\"\u001b[0;36m, line \u001b[0;32m1\u001b[0m\n\u001b[0;31m    76trombones = 'big parade'\u001b[0m\n\u001b[0m      ^\u001b[0m\n\u001b[0;31mSyntaxError\u001b[0m\u001b[0;31m:\u001b[0m invalid syntax\n"
     ]
    }
   ],
   "source": [
    "76trombones = 'big parade'"
   ]
  },
  {
   "cell_type": "code",
   "execution_count": 19,
   "id": "27a8cc68",
   "metadata": {},
   "outputs": [
    {
     "ename": "SyntaxError",
     "evalue": "invalid syntax (<ipython-input-19-73fc4ce1a15a>, line 1)",
     "output_type": "error",
     "traceback": [
      "\u001b[0;36m  File \u001b[0;32m\"<ipython-input-19-73fc4ce1a15a>\"\u001b[0;36m, line \u001b[0;32m1\u001b[0m\n\u001b[0;31m    class = 'Advanced Theoretical Zymurgy'\u001b[0m\n\u001b[0m          ^\u001b[0m\n\u001b[0;31mSyntaxError\u001b[0m\u001b[0;31m:\u001b[0m invalid syntax\n"
     ]
    }
   ],
   "source": [
    "class = 'Advanced Theoretical Zymurgy'"
   ]
  },
  {
   "cell_type": "code",
   "execution_count": 20,
   "id": "a093e333",
   "metadata": {},
   "outputs": [
    {
     "ename": "FileNotFoundError",
     "evalue": "[Errno 2] No such file or directory: '@ = 1000000'",
     "output_type": "error",
     "traceback": [
      "\u001b[0;31m---------------------------------------------------------------------------\u001b[0m",
      "\u001b[0;31mFileNotFoundError\u001b[0m                         Traceback (most recent call last)",
      "\u001b[0;32m<ipython-input-20-874d58278958>\u001b[0m in \u001b[0;36m<module>\u001b[0;34m\u001b[0m\n\u001b[0;32m----> 1\u001b[0;31m \u001b[0mget_ipython\u001b[0m\u001b[0;34m(\u001b[0m\u001b[0;34m)\u001b[0m\u001b[0;34m.\u001b[0m\u001b[0mrun_line_magic\u001b[0m\u001b[0;34m(\u001b[0m\u001b[0;34m'more'\u001b[0m\u001b[0;34m,\u001b[0m \u001b[0;34m'@ = 1000000'\u001b[0m\u001b[0;34m)\u001b[0m\u001b[0;34m\u001b[0m\u001b[0;34m\u001b[0m\u001b[0m\n\u001b[0m",
      "\u001b[0;32m/usr/local/Cellar/jupyterlab/3.0.16_1/libexec/lib/python3.9/site-packages/IPython/core/interactiveshell.py\u001b[0m in \u001b[0;36mrun_line_magic\u001b[0;34m(self, magic_name, line, _stack_depth)\u001b[0m\n\u001b[1;32m   2346\u001b[0m                 \u001b[0mkwargs\u001b[0m\u001b[0;34m[\u001b[0m\u001b[0;34m'local_ns'\u001b[0m\u001b[0;34m]\u001b[0m \u001b[0;34m=\u001b[0m \u001b[0mself\u001b[0m\u001b[0;34m.\u001b[0m\u001b[0mget_local_scope\u001b[0m\u001b[0;34m(\u001b[0m\u001b[0mstack_depth\u001b[0m\u001b[0;34m)\u001b[0m\u001b[0;34m\u001b[0m\u001b[0;34m\u001b[0m\u001b[0m\n\u001b[1;32m   2347\u001b[0m             \u001b[0;32mwith\u001b[0m \u001b[0mself\u001b[0m\u001b[0;34m.\u001b[0m\u001b[0mbuiltin_trap\u001b[0m\u001b[0;34m:\u001b[0m\u001b[0;34m\u001b[0m\u001b[0;34m\u001b[0m\u001b[0m\n\u001b[0;32m-> 2348\u001b[0;31m                 \u001b[0mresult\u001b[0m \u001b[0;34m=\u001b[0m \u001b[0mfn\u001b[0m\u001b[0;34m(\u001b[0m\u001b[0;34m*\u001b[0m\u001b[0margs\u001b[0m\u001b[0;34m,\u001b[0m \u001b[0;34m**\u001b[0m\u001b[0mkwargs\u001b[0m\u001b[0;34m)\u001b[0m\u001b[0;34m\u001b[0m\u001b[0;34m\u001b[0m\u001b[0m\n\u001b[0m\u001b[1;32m   2349\u001b[0m             \u001b[0;32mreturn\u001b[0m \u001b[0mresult\u001b[0m\u001b[0;34m\u001b[0m\u001b[0;34m\u001b[0m\u001b[0m\n\u001b[1;32m   2350\u001b[0m \u001b[0;34m\u001b[0m\u001b[0m\n",
      "\u001b[0;32m/usr/local/Cellar/jupyterlab/3.0.16_1/libexec/lib/python3.9/site-packages/decorator.py\u001b[0m in \u001b[0;36mfun\u001b[0;34m(*args, **kw)\u001b[0m\n\u001b[1;32m    230\u001b[0m             \u001b[0;32mif\u001b[0m \u001b[0;32mnot\u001b[0m \u001b[0mkwsyntax\u001b[0m\u001b[0;34m:\u001b[0m\u001b[0;34m\u001b[0m\u001b[0;34m\u001b[0m\u001b[0m\n\u001b[1;32m    231\u001b[0m                 \u001b[0margs\u001b[0m\u001b[0;34m,\u001b[0m \u001b[0mkw\u001b[0m \u001b[0;34m=\u001b[0m \u001b[0mfix\u001b[0m\u001b[0;34m(\u001b[0m\u001b[0margs\u001b[0m\u001b[0;34m,\u001b[0m \u001b[0mkw\u001b[0m\u001b[0;34m,\u001b[0m \u001b[0msig\u001b[0m\u001b[0;34m)\u001b[0m\u001b[0;34m\u001b[0m\u001b[0;34m\u001b[0m\u001b[0m\n\u001b[0;32m--> 232\u001b[0;31m             \u001b[0;32mreturn\u001b[0m \u001b[0mcaller\u001b[0m\u001b[0;34m(\u001b[0m\u001b[0mfunc\u001b[0m\u001b[0;34m,\u001b[0m \u001b[0;34m*\u001b[0m\u001b[0;34m(\u001b[0m\u001b[0mextras\u001b[0m \u001b[0;34m+\u001b[0m \u001b[0margs\u001b[0m\u001b[0;34m)\u001b[0m\u001b[0;34m,\u001b[0m \u001b[0;34m**\u001b[0m\u001b[0mkw\u001b[0m\u001b[0;34m)\u001b[0m\u001b[0;34m\u001b[0m\u001b[0;34m\u001b[0m\u001b[0m\n\u001b[0m\u001b[1;32m    233\u001b[0m     \u001b[0mfun\u001b[0m\u001b[0;34m.\u001b[0m\u001b[0m__name__\u001b[0m \u001b[0;34m=\u001b[0m \u001b[0mfunc\u001b[0m\u001b[0;34m.\u001b[0m\u001b[0m__name__\u001b[0m\u001b[0;34m\u001b[0m\u001b[0;34m\u001b[0m\u001b[0m\n\u001b[1;32m    234\u001b[0m     \u001b[0mfun\u001b[0m\u001b[0;34m.\u001b[0m\u001b[0m__doc__\u001b[0m \u001b[0;34m=\u001b[0m \u001b[0mfunc\u001b[0m\u001b[0;34m.\u001b[0m\u001b[0m__doc__\u001b[0m\u001b[0;34m\u001b[0m\u001b[0;34m\u001b[0m\u001b[0m\n",
      "\u001b[0;32m/usr/local/Cellar/jupyterlab/3.0.16_1/libexec/lib/python3.9/site-packages/IPython/core/magic.py\u001b[0m in \u001b[0;36m<lambda>\u001b[0;34m(f, *a, **k)\u001b[0m\n\u001b[1;32m    185\u001b[0m     \u001b[0;31m# but it's overkill for just that one bit of state.\u001b[0m\u001b[0;34m\u001b[0m\u001b[0;34m\u001b[0m\u001b[0;34m\u001b[0m\u001b[0m\n\u001b[1;32m    186\u001b[0m     \u001b[0;32mdef\u001b[0m \u001b[0mmagic_deco\u001b[0m\u001b[0;34m(\u001b[0m\u001b[0marg\u001b[0m\u001b[0;34m)\u001b[0m\u001b[0;34m:\u001b[0m\u001b[0;34m\u001b[0m\u001b[0;34m\u001b[0m\u001b[0m\n\u001b[0;32m--> 187\u001b[0;31m         \u001b[0mcall\u001b[0m \u001b[0;34m=\u001b[0m \u001b[0;32mlambda\u001b[0m \u001b[0mf\u001b[0m\u001b[0;34m,\u001b[0m \u001b[0;34m*\u001b[0m\u001b[0ma\u001b[0m\u001b[0;34m,\u001b[0m \u001b[0;34m**\u001b[0m\u001b[0mk\u001b[0m\u001b[0;34m:\u001b[0m \u001b[0mf\u001b[0m\u001b[0;34m(\u001b[0m\u001b[0;34m*\u001b[0m\u001b[0ma\u001b[0m\u001b[0;34m,\u001b[0m \u001b[0;34m**\u001b[0m\u001b[0mk\u001b[0m\u001b[0;34m)\u001b[0m\u001b[0;34m\u001b[0m\u001b[0;34m\u001b[0m\u001b[0m\n\u001b[0m\u001b[1;32m    188\u001b[0m \u001b[0;34m\u001b[0m\u001b[0m\n\u001b[1;32m    189\u001b[0m         \u001b[0;32mif\u001b[0m \u001b[0mcallable\u001b[0m\u001b[0;34m(\u001b[0m\u001b[0marg\u001b[0m\u001b[0;34m)\u001b[0m\u001b[0;34m:\u001b[0m\u001b[0;34m\u001b[0m\u001b[0;34m\u001b[0m\u001b[0m\n",
      "\u001b[0;32m/usr/local/Cellar/jupyterlab/3.0.16_1/libexec/lib/python3.9/site-packages/ipykernel/zmqshell.py\u001b[0m in \u001b[0;36mless\u001b[0;34m(self, arg_s)\u001b[0m\n\u001b[1;32m    343\u001b[0m             \u001b[0mcont\u001b[0m \u001b[0;34m=\u001b[0m \u001b[0mself\u001b[0m\u001b[0;34m.\u001b[0m\u001b[0mshell\u001b[0m\u001b[0;34m.\u001b[0m\u001b[0mpycolorize\u001b[0m\u001b[0;34m(\u001b[0m\u001b[0mopenpy\u001b[0m\u001b[0;34m.\u001b[0m\u001b[0mread_py_file\u001b[0m\u001b[0;34m(\u001b[0m\u001b[0marg_s\u001b[0m\u001b[0;34m,\u001b[0m \u001b[0mskip_encoding_cookie\u001b[0m\u001b[0;34m=\u001b[0m\u001b[0;32mFalse\u001b[0m\u001b[0;34m)\u001b[0m\u001b[0;34m)\u001b[0m\u001b[0;34m\u001b[0m\u001b[0;34m\u001b[0m\u001b[0m\n\u001b[1;32m    344\u001b[0m         \u001b[0;32melse\u001b[0m\u001b[0;34m:\u001b[0m\u001b[0;34m\u001b[0m\u001b[0;34m\u001b[0m\u001b[0m\n\u001b[0;32m--> 345\u001b[0;31m             \u001b[0mcont\u001b[0m \u001b[0;34m=\u001b[0m \u001b[0mopen\u001b[0m\u001b[0;34m(\u001b[0m\u001b[0marg_s\u001b[0m\u001b[0;34m)\u001b[0m\u001b[0;34m.\u001b[0m\u001b[0mread\u001b[0m\u001b[0;34m(\u001b[0m\u001b[0;34m)\u001b[0m\u001b[0;34m\u001b[0m\u001b[0;34m\u001b[0m\u001b[0m\n\u001b[0m\u001b[1;32m    346\u001b[0m         \u001b[0mpage\u001b[0m\u001b[0;34m.\u001b[0m\u001b[0mpage\u001b[0m\u001b[0;34m(\u001b[0m\u001b[0mcont\u001b[0m\u001b[0;34m)\u001b[0m\u001b[0;34m\u001b[0m\u001b[0;34m\u001b[0m\u001b[0m\n\u001b[1;32m    347\u001b[0m \u001b[0;34m\u001b[0m\u001b[0m\n",
      "\u001b[0;31mFileNotFoundError\u001b[0m: [Errno 2] No such file or directory: '@ = 1000000'"
     ]
    }
   ],
   "source": [
    "more@ = 1000000"
   ]
  },
  {
   "cell_type": "markdown",
   "id": "ce38c614",
   "metadata": {},
   "source": [
    "#### Python reserves 35 keywords:\n",
    "\n",
    "***and, del, from, as,        elif,      global, assert,    else,      if, break,     except,    import, class, False,     in,\n",
    "continue,  finally,   is,\n",
    "def,       for,       lambda,\n",
    "None,      True,\n",
    "nonlocal,  try,\n",
    "not,       while,\n",
    "or,        with,\n",
    "pass,      yield,\n",
    "raise,     async,\n",
    "return,    await***\n",
    "\n",
    "### Operators and operands\n",
    "\n",
    "main operators:\n",
    "\n",
    "```+, -, *, /, **```\n",
    "\n",
    "modulus operators:\n",
    "\n",
    "``` %, //```\n",
    "\n",
    "\n",
    "In python3:\n"
   ]
  },
  {
   "cell_type": "code",
   "execution_count": 21,
   "id": "0d6792b4",
   "metadata": {},
   "outputs": [
    {
     "data": {
      "text/plain": [
       "0.6666666666666666"
      ]
     },
     "execution_count": 21,
     "metadata": {},
     "output_type": "execute_result"
    }
   ],
   "source": [
    "2/3"
   ]
  },
  {
   "cell_type": "code",
   "execution_count": 22,
   "id": "220a330b",
   "metadata": {},
   "outputs": [
    {
     "data": {
      "text/plain": [
       "0"
      ]
     },
     "execution_count": 22,
     "metadata": {},
     "output_type": "execute_result"
    }
   ],
   "source": [
    "2//3"
   ]
  },
  {
   "cell_type": "markdown",
   "id": "15c7c7a6",
   "metadata": {},
   "source": [
    "String operations:\n",
    "- concatenation ```+```\n",
    "- multiplication ``` * ```"
   ]
  },
  {
   "cell_type": "code",
   "execution_count": 25,
   "id": "9487b628",
   "metadata": {},
   "outputs": [
    {
     "data": {
      "text/plain": [
       "200"
      ]
     },
     "execution_count": 25,
     "metadata": {},
     "output_type": "execute_result"
    }
   ],
   "source": [
    "first = 50; second = 150\n",
    "first + second"
   ]
  },
  {
   "cell_type": "code",
   "execution_count": 42,
   "id": "a5c5126e",
   "metadata": {},
   "outputs": [
    {
     "ename": "TypeError",
     "evalue": "can only concatenate str (not \"int\") to str",
     "output_type": "error",
     "traceback": [
      "\u001b[0;31m---------------------------------------------------------------------------\u001b[0m",
      "\u001b[0;31mTypeError\u001b[0m                                 Traceback (most recent call last)",
      "\u001b[0;32m<ipython-input-42-0caf59a2d50f>\u001b[0m in \u001b[0;36m<module>\u001b[0;34m\u001b[0m\n\u001b[1;32m      1\u001b[0m \u001b[0mfirst\u001b[0m \u001b[0;34m=\u001b[0m \u001b[0;34m'50'\u001b[0m\u001b[0;34m;\u001b[0m \u001b[0msecond\u001b[0m \u001b[0;34m=\u001b[0m \u001b[0;36m150\u001b[0m\u001b[0;34m\u001b[0m\u001b[0;34m\u001b[0m\u001b[0m\n\u001b[0;32m----> 2\u001b[0;31m \u001b[0mfirst\u001b[0m \u001b[0;34m+\u001b[0m \u001b[0msecond\u001b[0m\u001b[0;34m\u001b[0m\u001b[0;34m\u001b[0m\u001b[0m\n\u001b[0m",
      "\u001b[0;31mTypeError\u001b[0m: can only concatenate str (not \"int\") to str"
     ]
    }
   ],
   "source": [
    "first = '50'; second = 150\n",
    "first + second"
   ]
  },
  {
   "cell_type": "code",
   "execution_count": 43,
   "id": "c019782b",
   "metadata": {},
   "outputs": [
    {
     "name": "stdout",
     "output_type": "stream",
     "text": [
      "200\n"
     ]
    }
   ],
   "source": [
    "print(int(first) + second)"
   ]
  },
  {
   "cell_type": "code",
   "execution_count": 44,
   "id": "f4fcacdd",
   "metadata": {},
   "outputs": [
    {
     "name": "stdout",
     "output_type": "stream",
     "text": [
      "50150\n"
     ]
    }
   ],
   "source": [
    "print(first + str(second))"
   ]
  },
  {
   "cell_type": "code",
   "execution_count": 45,
   "id": "b6d160d0",
   "metadata": {},
   "outputs": [
    {
     "data": {
      "text/plain": [
       "'501000'"
      ]
     },
     "execution_count": 45,
     "metadata": {},
     "output_type": "execute_result"
    }
   ],
   "source": [
    "first = '50'; second = '1000'\n",
    "first + second"
   ]
  },
  {
   "cell_type": "code",
   "execution_count": 46,
   "id": "7901f345",
   "metadata": {},
   "outputs": [
    {
     "data": {
      "text/plain": [
       "'100050'"
      ]
     },
     "execution_count": 46,
     "metadata": {},
     "output_type": "execute_result"
    }
   ],
   "source": [
    "second + first "
   ]
  },
  {
   "cell_type": "code",
   "execution_count": 47,
   "id": "8f0459cb",
   "metadata": {},
   "outputs": [
    {
     "name": "stdout",
     "output_type": "stream",
     "text": [
      "first * second is:  505050\n",
      "second * first is:  505050\n"
     ]
    }
   ],
   "source": [
    "first = '50'; second = 3\n",
    "print('first * second is: ', first * second)\n",
    "print('second * first is: ', second * first)"
   ]
  },
  {
   "cell_type": "code",
   "execution_count": 48,
   "id": "9ebbf6a3",
   "metadata": {},
   "outputs": [
    {
     "ename": "TypeError",
     "evalue": "can't multiply sequence by non-int of type 'str'",
     "output_type": "error",
     "traceback": [
      "\u001b[0;31m---------------------------------------------------------------------------\u001b[0m",
      "\u001b[0;31mTypeError\u001b[0m                                 Traceback (most recent call last)",
      "\u001b[0;32m<ipython-input-48-bc84e9b1a933>\u001b[0m in \u001b[0;36m<module>\u001b[0;34m\u001b[0m\n\u001b[1;32m      1\u001b[0m \u001b[0mfirst\u001b[0m \u001b[0;34m=\u001b[0m \u001b[0;34m'50'\u001b[0m\u001b[0;34m;\u001b[0m \u001b[0msecond\u001b[0m \u001b[0;34m=\u001b[0m \u001b[0;34m'3'\u001b[0m\u001b[0;34m\u001b[0m\u001b[0;34m\u001b[0m\u001b[0m\n\u001b[0;32m----> 2\u001b[0;31m \u001b[0mfirst\u001b[0m \u001b[0;34m*\u001b[0m \u001b[0msecond\u001b[0m\u001b[0;34m\u001b[0m\u001b[0;34m\u001b[0m\u001b[0m\n\u001b[0m",
      "\u001b[0;31mTypeError\u001b[0m: can't multiply sequence by non-int of type 'str'"
     ]
    }
   ],
   "source": [
    "first = '50'; second = '3'\n",
    "first * second"
   ]
  },
  {
   "cell_type": "markdown",
   "id": "c2a9d00a",
   "metadata": {},
   "source": [
    "### Asking the user for input"
   ]
  },
  {
   "cell_type": "code",
   "execution_count": 36,
   "id": "e3b05f16",
   "metadata": {},
   "outputs": [
    {
     "name": "stdout",
     "output_type": "stream",
     "text": [
      "What is your name?\n",
      "Amin\n"
     ]
    }
   ],
   "source": [
    "name = input('What is your name?\\n')"
   ]
  },
  {
   "cell_type": "code",
   "execution_count": 37,
   "id": "c6cf5098",
   "metadata": {},
   "outputs": [
    {
     "name": "stdout",
     "output_type": "stream",
     "text": [
      "Amin\n"
     ]
    }
   ],
   "source": [
    "print(name)"
   ]
  },
  {
   "cell_type": "code",
   "execution_count": 61,
   "id": "4f016684",
   "metadata": {},
   "outputs": [
    {
     "name": "stdout",
     "output_type": "stream",
     "text": [
      "Please inter the first integer\n",
      "60\n",
      "Please inter the second integer\n",
      "33\n",
      "first + second= 93\n",
      "first * second= 1980\n"
     ]
    }
   ],
   "source": [
    "first = int(input('Please inter the first integer\\n'))\n",
    "second = int(input('Please inter the second integer\\n'))\n",
    "print('first + second=', first + second)\n",
    "print('first * second=', first * second)"
   ]
  },
  {
   "cell_type": "code",
   "execution_count": 53,
   "id": "328f272b",
   "metadata": {},
   "outputs": [
    {
     "name": "stdout",
     "output_type": "stream",
     "text": [
      "Please inter your first name\n",
      "Amin\n",
      "Please inter your last name\n",
      "Oroji\n",
      "Please inter your school name\n",
      "Prata Technology\n",
      "Please inter your Age\n",
      "40\n",
      "Please inter your Gender\n",
      "Male\n"
     ]
    }
   ],
   "source": [
    "first = input('Please inter your first name\\n')\n",
    "last = input('Please inter your last name\\n')\n",
    "school = input('Please inter your school name\\n')\n",
    "age = input('Please inter your Age\\n')\n",
    "gender = input('Please inter your Gender\\n')"
   ]
  },
  {
   "cell_type": "code",
   "execution_count": 58,
   "id": "022bb78d",
   "metadata": {},
   "outputs": [
    {
     "name": "stdout",
     "output_type": "stream",
     "text": [
      "My name is  Amin Oroji,\n",
      "I have  40 years old,\n",
      "I'm  Male,\n",
      "Finally, I'm studing at Prata Technology.\n"
     ]
    }
   ],
   "source": [
    "print('My name is ', first + ' ' + last + ',')\n",
    "print('I have ', age, 'years old,')\n",
    "print(\"I'm \", gender + ',')\n",
    "print(\"Finally, I'm studing at\", school + '.')"
   ]
  },
  {
   "cell_type": "markdown",
   "id": "dc2b9622",
   "metadata": {},
   "source": [
    "#### Comments"
   ]
  },
  {
   "cell_type": "code",
   "execution_count": 62,
   "id": "f3e6a332",
   "metadata": {},
   "outputs": [
    {
     "data": {
      "text/plain": [
       "1980"
      ]
     },
     "execution_count": 62,
     "metadata": {},
     "output_type": "execute_result"
    }
   ],
   "source": [
    "# compute the mltiplication of first and second\n",
    "mul = first * second\n",
    "mul"
   ]
  },
  {
   "cell_type": "markdown",
   "id": "11d9e68b",
   "metadata": {},
   "source": [
    "#### Choosing mnemonic variable names"
   ]
  },
  {
   "cell_type": "code",
   "execution_count": null,
   "id": "b81bc185",
   "metadata": {},
   "outputs": [],
   "source": [
    "hours = 35.0 # hours of employment\n",
    "rate = 12.50  # rate of the peyment\n",
    "pay = hours * rate # total peyment\n",
    "print(pay)"
   ]
  },
  {
   "cell_type": "code",
   "execution_count": null,
   "id": "a4e288c4",
   "metadata": {},
   "outputs": [],
   "source": [
    "x1q3z9ahd = 35.0\n",
    "x1q3z9afd = 12.50\n",
    "x1q3p9afd = x1q3z9ahd * x1q3z9afd\n",
    "print(x1q3p9afd)"
   ]
  },
  {
   "cell_type": "markdown",
   "id": "12fd69db",
   "metadata": {},
   "source": [
    "#### Exercise\n",
    "1. Take the radius of a circle and calculate the area of that circle. \n",
    "\n",
    "2. Calculate the valume of a rectangle based on its length, width and height."
   ]
  },
  {
   "cell_type": "markdown",
   "id": "5802beee",
   "metadata": {},
   "source": [
    "# Chapter3: Conditional Expressions\n",
    "\n",
    "## Comparison Operators"
   ]
  },
  {
   "cell_type": "code",
   "execution_count": null,
   "id": "006b2838",
   "metadata": {},
   "outputs": [],
   "source": [
    "x == y           # x is equal to y \n",
    "x!=y             # x is not equal to y\n",
    "x>y              # x is greater than y \n",
    "x<y              #xislessthany\n",
    "x>=y             # x is greater than or equal to y \n",
    "x<=y             #xislessthanorequaltoy \n",
    "x is y           #x is the same as y\n",
    "x is not y       # x is not the same as y"
   ]
  },
  {
   "cell_type": "markdown",
   "id": "34dd96b8",
   "metadata": {},
   "source": [
    "#### Logical Operators\n",
    "There are three logical operators\n",
    "- and (&)\n",
    "- or (|)\n",
    "- not (~)"
   ]
  },
  {
   "cell_type": "markdown",
   "id": "b7fbcd24",
   "metadata": {},
   "source": [
    "## Introduction to the Binary Logic"
   ]
  },
  {
   "cell_type": "markdown",
   "id": "4290f397",
   "metadata": {},
   "source": [
    "## Conditional Execution:"
   ]
  },
  {
   "cell_type": "code",
   "execution_count": 6,
   "id": "e409fa46",
   "metadata": {},
   "outputs": [
    {
     "name": "stdout",
     "output_type": "stream",
     "text": [
      "Enter and integer: 100\n",
      "x is very large.\n"
     ]
    }
   ],
   "source": [
    "x = int(input('Enter and integer: '))\n",
    "if x > 50:\n",
    "    print('x is very large.')"
   ]
  },
  {
   "cell_type": "markdown",
   "id": "7a103000",
   "metadata": {},
   "source": [
    "## Alternative Execution"
   ]
  },
  {
   "cell_type": "code",
   "execution_count": 5,
   "id": "e739f728",
   "metadata": {},
   "outputs": [
    {
     "name": "stdout",
     "output_type": "stream",
     "text": [
      "Enter and integer: 10\n",
      "x is small.\n"
     ]
    }
   ],
   "source": [
    "x = int(input('Enter and integer: '))\n",
    "if x > 50:\n",
    "    print('x is very large.')\n",
    "else:\n",
    "    print('x is small.')"
   ]
  },
  {
   "cell_type": "markdown",
   "id": "73b2404c",
   "metadata": {},
   "source": [
    "## Chained Conditionals"
   ]
  },
  {
   "cell_type": "code",
   "execution_count": null,
   "id": "44ef0b5e",
   "metadata": {},
   "outputs": [],
   "source": [
    "x = int(input('Enter and integer: '))\n",
    "if x > 50:\n",
    "    print('x is very large.')\n",
    "elif x < 10:\n",
    "    print('x is very small.')\n",
    "else:\n",
    "    print('x is good enough.')"
   ]
  },
  {
   "cell_type": "markdown",
   "id": "cda85ae3",
   "metadata": {},
   "source": [
    "## Nested Conditionals"
   ]
  },
  {
   "cell_type": "code",
   "execution_count": null,
   "id": "e21820ea",
   "metadata": {},
   "outputs": [],
   "source": [
    "x = int(input('Enter and integer: '))\n",
    "y = int(input('Enter and integer: '))\n",
    "\n",
    "if x == y:\n",
    "    print('x and y are equal')\n",
    "else:\n",
    "    if x < y:\n",
    "        print('x is less than y') \n",
    "    else:\n",
    "        print('x is greater than y')"
   ]
  },
  {
   "cell_type": "markdown",
   "id": "b3e67cb8",
   "metadata": {},
   "source": [
    "## try, except"
   ]
  },
  {
   "cell_type": "code",
   "execution_count": 16,
   "id": "f9920289",
   "metadata": {},
   "outputs": [
    {
     "name": "stdout",
     "output_type": "stream",
     "text": [
      "Enter an integer:10\n",
      "Enter a non-zero integer:0\n"
     ]
    },
    {
     "ename": "ZeroDivisionError",
     "evalue": "integer division or modulo by zero",
     "output_type": "error",
     "traceback": [
      "\u001b[0;31m---------------------------------------------------------------------------\u001b[0m",
      "\u001b[0;31mZeroDivisionError\u001b[0m                         Traceback (most recent call last)",
      "Input \u001b[0;32mIn [16]\u001b[0m, in \u001b[0;36m<module>\u001b[0;34m\u001b[0m\n\u001b[1;32m      4\u001b[0m x \u001b[38;5;241m=\u001b[39m \u001b[38;5;28mint\u001b[39m(x)\n\u001b[1;32m      5\u001b[0m y \u001b[38;5;241m=\u001b[39m \u001b[38;5;28mint\u001b[39m(y)\n\u001b[0;32m----> 6\u001b[0m q \u001b[38;5;241m=\u001b[39m \u001b[43mx\u001b[49m\u001b[38;5;241;43m/\u001b[39;49m\u001b[38;5;241;43m/\u001b[39;49m\u001b[43my\u001b[49m\n\u001b[1;32m      7\u001b[0m r \u001b[38;5;241m=\u001b[39m x\u001b[38;5;241m%\u001b[39my\n\u001b[1;32m      8\u001b[0m \u001b[38;5;28mprint\u001b[39m(\u001b[38;5;124m'\u001b[39m\u001b[38;5;124mq = \u001b[39m\u001b[38;5;124m'\u001b[39m,q)\n",
      "\u001b[0;31mZeroDivisionError\u001b[0m: integer division or modulo by zero"
     ]
    }
   ],
   "source": [
    "x = input('Enter an integer:') \n",
    "y = input('Enter a non-zero integer:') \n",
    "\n",
    "x = int(x)\n",
    "y = int(y)\n",
    "q = x//y\n",
    "r = x%y\n",
    "print('q = ',q)\n",
    "print('r = ',r)\n"
   ]
  },
  {
   "cell_type": "code",
   "execution_count": 14,
   "id": "788320b1",
   "metadata": {},
   "outputs": [
    {
     "name": "stdout",
     "output_type": "stream",
     "text": [
      "Enter an integer:a\n",
      "Enter a non-zero integer:10\n",
      "Please enter proper x and y\n"
     ]
    }
   ],
   "source": [
    "x = input('Enter an integer:') \n",
    "y = input('Enter a non-zero integer:') \n",
    "\n",
    "try:\n",
    "    x = int(x)\n",
    "    y = int(y)\n",
    "    q = x//y\n",
    "    r = x%y\n",
    "    print('q = ',q)\n",
    "    print('r = ',r)\n",
    "except:\n",
    "    print('Please enter proper x and y')"
   ]
  },
  {
   "cell_type": "markdown",
   "id": "383f15bb",
   "metadata": {},
   "source": [
    "#### Exercise (vscode)\n",
    "1. Take a positive number as the radius of a circle and calculate the area of that circle. Also handle the possible errors. \n",
    "\n",
    "2. Calculate the valume of a rectangle based on its length, width and height. Also handle the possible errors."
   ]
  },
  {
   "cell_type": "markdown",
   "id": "5172a024",
   "metadata": {},
   "source": [
    "## try, except, finally"
   ]
  },
  {
   "cell_type": "code",
   "execution_count": 18,
   "id": "c67248ee",
   "metadata": {},
   "outputs": [
    {
     "name": "stdout",
     "output_type": "stream",
     "text": [
      "Enter an integer:w\n",
      "Enter a non-zero integer:2\n",
      "Please enter proper x and y\n",
      "Done!\n"
     ]
    }
   ],
   "source": [
    "x = input('Enter an integer:') \n",
    "y = input('Enter a non-zero integer:') \n",
    "\n",
    "try:\n",
    "    x = int(x)\n",
    "    y = int(y)\n",
    "    q = x//y\n",
    "    r = x%y\n",
    "    print('q = ',q)\n",
    "    print('r = ',r)\n",
    "except:\n",
    "    print('Please enter proper x and y')\n",
    "\n",
    "finally:\n",
    "    print('Done!')"
   ]
  },
  {
   "cell_type": "code",
   "execution_count": null,
   "id": "58d8a53a",
   "metadata": {},
   "outputs": [],
   "source": []
  }
 ],
 "metadata": {
  "kernelspec": {
   "display_name": "Python 3 (ipykernel)",
   "language": "python",
   "name": "python3"
  },
  "language_info": {
   "codemirror_mode": {
    "name": "ipython",
    "version": 3
   },
   "file_extension": ".py",
   "mimetype": "text/x-python",
   "name": "python",
   "nbconvert_exporter": "python",
   "pygments_lexer": "ipython3",
   "version": "3.9.6"
  }
 },
 "nbformat": 4,
 "nbformat_minor": 5
}
