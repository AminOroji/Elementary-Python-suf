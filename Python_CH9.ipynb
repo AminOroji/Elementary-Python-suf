{
 "cells": [
  {
   "cell_type": "markdown",
   "id": "63e2aa54",
   "metadata": {},
   "source": [
    "# Chapter 9: Dictionary\n",
    "\n",
    "A dictionary is like a list, but more general. In a list, the index positions have to be integers; in a dictionary, the indices can be (almost) any type. In each pir the first and second elements are called **key** and **value** respectively. "
   ]
  },
  {
   "cell_type": "code",
   "execution_count": 1,
   "id": "b668098b",
   "metadata": {},
   "outputs": [
    {
     "name": "stdout",
     "output_type": "stream",
     "text": [
      "{}\n"
     ]
    }
   ],
   "source": [
    "employees = dict()\n",
    "print(employees)"
   ]
  },
  {
   "cell_type": "code",
   "execution_count": 3,
   "id": "2546a290",
   "metadata": {},
   "outputs": [
    {
     "data": {
      "text/plain": [
       "{'CEO': 'Amin',\n",
       " 'IT Support': 'Milad',\n",
       " 'DM Manager': 'Sahar',\n",
       " 'AI Eng': 'Armin',\n",
       " 'Graphic Designer': 'Raana',\n",
       " 'UX Designer': 'Narges'}"
      ]
     },
     "execution_count": 3,
     "metadata": {},
     "output_type": "execute_result"
    }
   ],
   "source": [
    "employees = {'CEO':'Amin', 'IT Support': 'Milad', 'DM Manager': 'Sahar', 'AI Eng': 'Armin',\n",
    "            'Graphic Designer':'Raana', 'UX Designer':'Narges'\n",
    "           }\n",
    "employees"
   ]
  },
  {
   "cell_type": "code",
   "execution_count": 4,
   "id": "4b00a5a2",
   "metadata": {},
   "outputs": [
    {
     "data": {
      "text/plain": [
       "6"
      ]
     },
     "execution_count": 4,
     "metadata": {},
     "output_type": "execute_result"
    }
   ],
   "source": [
    "len(employees)"
   ]
  },
  {
   "cell_type": "code",
   "execution_count": 5,
   "id": "189b3335",
   "metadata": {},
   "outputs": [
    {
     "data": {
      "text/plain": [
       "'Amin'"
      ]
     },
     "execution_count": 5,
     "metadata": {},
     "output_type": "execute_result"
    }
   ],
   "source": [
    "employees['CEO']"
   ]
  },
  {
   "cell_type": "code",
   "execution_count": 6,
   "id": "d75d249c",
   "metadata": {},
   "outputs": [
    {
     "ename": "KeyError",
     "evalue": "'Amin'",
     "output_type": "error",
     "traceback": [
      "\u001b[0;31m---------------------------------------------------------------------------\u001b[0m",
      "\u001b[0;31mKeyError\u001b[0m                                  Traceback (most recent call last)",
      "Input \u001b[0;32mIn [6]\u001b[0m, in \u001b[0;36m<module>\u001b[0;34m\u001b[0m\n\u001b[0;32m----> 1\u001b[0m \u001b[43memployees\u001b[49m\u001b[43m[\u001b[49m\u001b[38;5;124;43m'\u001b[39;49m\u001b[38;5;124;43mAmin\u001b[39;49m\u001b[38;5;124;43m'\u001b[39;49m\u001b[43m]\u001b[49m\n",
      "\u001b[0;31mKeyError\u001b[0m: 'Amin'"
     ]
    }
   ],
   "source": [
    "employees['Amin']"
   ]
  },
  {
   "cell_type": "code",
   "execution_count": 7,
   "id": "116a4c2a",
   "metadata": {},
   "outputs": [
    {
     "data": {
      "text/plain": [
       "True"
      ]
     },
     "execution_count": 7,
     "metadata": {},
     "output_type": "execute_result"
    }
   ],
   "source": [
    "'CEO' in employees"
   ]
  },
  {
   "cell_type": "code",
   "execution_count": 8,
   "id": "6518e6e0",
   "metadata": {},
   "outputs": [
    {
     "data": {
      "text/plain": [
       "False"
      ]
     },
     "execution_count": 8,
     "metadata": {},
     "output_type": "execute_result"
    }
   ],
   "source": [
    "'Amin' in employees"
   ]
  },
  {
   "cell_type": "code",
   "execution_count": 9,
   "id": "09608fe0",
   "metadata": {},
   "outputs": [
    {
     "name": "stdout",
     "output_type": "stream",
     "text": [
      "Amin is CEO at Prata Technology\n",
      "Milad is IT Support at Prata Technology\n",
      "Sahar is DM Manager at Prata Technology\n",
      "Armin is AI Eng at Prata Technology\n",
      "Raana is Graphic Designer at Prata Technology\n",
      "Narges is UX Designer at Prata Technology\n"
     ]
    }
   ],
   "source": [
    "for employee in employees:\n",
    "    print(\"%s is %s at Prata Technology\" % (employees[employee], employee))"
   ]
  },
  {
   "cell_type": "code",
   "execution_count": 10,
   "id": "d9e357ce",
   "metadata": {},
   "outputs": [
    {
     "data": {
      "text/plain": [
       "['CEO',\n",
       " 'IT Support',\n",
       " 'DM Manager',\n",
       " 'AI Eng',\n",
       " 'Graphic Designer',\n",
       " 'UX Designer']"
      ]
     },
     "execution_count": 10,
     "metadata": {},
     "output_type": "execute_result"
    }
   ],
   "source": [
    "list(employees.keys())"
   ]
  },
  {
   "cell_type": "code",
   "execution_count": 11,
   "id": "15261606",
   "metadata": {},
   "outputs": [
    {
     "data": {
      "text/plain": [
       "['Amin', 'Milad', 'Sahar', 'Armin', 'Raana', 'Narges']"
      ]
     },
     "execution_count": 11,
     "metadata": {},
     "output_type": "execute_result"
    }
   ],
   "source": [
    "list(employees.values())"
   ]
  },
  {
   "cell_type": "markdown",
   "id": "98f37595",
   "metadata": {},
   "source": [
    "### Dictionary as a counter"
   ]
  },
  {
   "cell_type": "code",
   "execution_count": 14,
   "id": "8d66e30f",
   "metadata": {},
   "outputs": [
    {
     "name": "stdout",
     "output_type": "stream",
     "text": [
      "ahmadrezabargharar\n",
      "{'a': 6, 'h': 2, 'm': 1, 'd': 1, 'r': 4, 'e': 1, 'z': 1, 'b': 1, 'g': 1}\n",
      "done\n"
     ]
    }
   ],
   "source": [
    "while True:\n",
    "    word = input()\n",
    "    if word == 'done': break\n",
    "    d = dict()\n",
    "    for c in word:\n",
    "        if c not in d: \n",
    "            d[c] = 1\n",
    "        else:\n",
    "            d[c] = d[c] + 1\n",
    "    print(d)"
   ]
  },
  {
   "cell_type": "markdown",
   "id": "1696d604",
   "metadata": {},
   "source": [
    "## Exe: take an string and count the number of spaces."
   ]
  },
  {
   "cell_type": "code",
   "execution_count": 15,
   "id": "160502c8",
   "metadata": {},
   "outputs": [
    {
     "data": {
      "text/plain": [
       "['__class__',\n",
       " '__class_getitem__',\n",
       " '__contains__',\n",
       " '__delattr__',\n",
       " '__delitem__',\n",
       " '__dir__',\n",
       " '__doc__',\n",
       " '__eq__',\n",
       " '__format__',\n",
       " '__ge__',\n",
       " '__getattribute__',\n",
       " '__getitem__',\n",
       " '__gt__',\n",
       " '__hash__',\n",
       " '__init__',\n",
       " '__init_subclass__',\n",
       " '__ior__',\n",
       " '__iter__',\n",
       " '__le__',\n",
       " '__len__',\n",
       " '__lt__',\n",
       " '__ne__',\n",
       " '__new__',\n",
       " '__or__',\n",
       " '__reduce__',\n",
       " '__reduce_ex__',\n",
       " '__repr__',\n",
       " '__reversed__',\n",
       " '__ror__',\n",
       " '__setattr__',\n",
       " '__setitem__',\n",
       " '__sizeof__',\n",
       " '__str__',\n",
       " '__subclasshook__',\n",
       " 'clear',\n",
       " 'copy',\n",
       " 'fromkeys',\n",
       " 'get',\n",
       " 'items',\n",
       " 'keys',\n",
       " 'pop',\n",
       " 'popitem',\n",
       " 'setdefault',\n",
       " 'update',\n",
       " 'values']"
      ]
     },
     "execution_count": 15,
     "metadata": {},
     "output_type": "execute_result"
    }
   ],
   "source": [
    "dir(d)"
   ]
  },
  {
   "cell_type": "code",
   "execution_count": 16,
   "id": "ea67b926",
   "metadata": {},
   "outputs": [
    {
     "data": {
      "text/plain": [
       "dict_items([('a', 6), ('h', 2), ('m', 1), ('d', 1), ('r', 4), ('e', 1), ('z', 1), ('b', 1), ('g', 1)])"
      ]
     },
     "execution_count": 16,
     "metadata": {},
     "output_type": "execute_result"
    }
   ],
   "source": [
    "new_d = d.items()\n",
    "new_d"
   ]
  },
  {
   "cell_type": "code",
   "execution_count": 17,
   "id": "7c06f9be",
   "metadata": {},
   "outputs": [
    {
     "data": {
      "text/plain": [
       "[('a', 6),\n",
       " ('h', 2),\n",
       " ('m', 1),\n",
       " ('d', 1),\n",
       " ('r', 4),\n",
       " ('e', 1),\n",
       " ('z', 1),\n",
       " ('b', 1),\n",
       " ('g', 1)]"
      ]
     },
     "execution_count": 17,
     "metadata": {},
     "output_type": "execute_result"
    }
   ],
   "source": [
    "lst = list(d.items())\n",
    "lst"
   ]
  },
  {
   "cell_type": "code",
   "execution_count": 18,
   "id": "bf4fd03d",
   "metadata": {},
   "outputs": [
    {
     "data": {
      "text/plain": [
       "'Amin'"
      ]
     },
     "execution_count": 18,
     "metadata": {},
     "output_type": "execute_result"
    }
   ],
   "source": [
    "employees.get('CEO')"
   ]
  },
  {
   "cell_type": "code",
   "execution_count": 19,
   "id": "5a576713",
   "metadata": {},
   "outputs": [
    {
     "data": {
      "text/plain": [
       "10"
      ]
     },
     "execution_count": 19,
     "metadata": {},
     "output_type": "execute_result"
    }
   ],
   "source": [
    "employees.get('ceo',10)"
   ]
  },
  {
   "cell_type": "code",
   "execution_count": null,
   "id": "1c5e3290",
   "metadata": {},
   "outputs": [],
   "source": []
  }
 ],
 "metadata": {
  "kernelspec": {
   "display_name": "Python 3 (ipykernel)",
   "language": "python",
   "name": "python3"
  },
  "language_info": {
   "codemirror_mode": {
    "name": "ipython",
    "version": 3
   },
   "file_extension": ".py",
   "mimetype": "text/x-python",
   "name": "python",
   "nbconvert_exporter": "python",
   "pygments_lexer": "ipython3",
   "version": "3.9.6"
  }
 },
 "nbformat": 4,
 "nbformat_minor": 5
}
