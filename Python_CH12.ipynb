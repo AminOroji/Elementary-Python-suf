{
 "cells": [
  {
   "cell_type": "markdown",
   "id": "a861c67a",
   "metadata": {},
   "source": [
    "# Chapter 12: [Some Built-in Libraries](https://sunscrapers.com/blog/30-built-in-python-modules-you-should-know/)"
   ]
  },
  {
   "cell_type": "markdown",
   "id": "d19261f5",
   "metadata": {},
   "source": [
    "## [os](https://docs.python.org/3.7/library/os.html)\n",
    "This module offers a portable method of using **operating system** dependent functionality.\n"
   ]
  },
  {
   "cell_type": "code",
   "execution_count": 70,
   "id": "0163246b",
   "metadata": {},
   "outputs": [],
   "source": [
    "import os\n",
    "# dir(os)"
   ]
  },
  {
   "cell_type": "code",
   "execution_count": null,
   "id": "65939682",
   "metadata": {},
   "outputs": [],
   "source": []
  },
  {
   "cell_type": "code",
   "execution_count": 9,
   "id": "03d9979c",
   "metadata": {},
   "outputs": [
    {
     "data": {
      "text/plain": [
       "'/dev/tty'"
      ]
     },
     "execution_count": 9,
     "metadata": {},
     "output_type": "execute_result"
    }
   ],
   "source": [
    "# Return the filename corresponding to the controlling terminal of the process.\n",
    "\n",
    "os.ctermid()\n"
   ]
  },
  {
   "cell_type": "code",
   "execution_count": 8,
   "id": "e1271dd6",
   "metadata": {},
   "outputs": [
    {
     "data": {
      "text/plain": [
       "'/Users/amin'"
      ]
     },
     "execution_count": 8,
     "metadata": {},
     "output_type": "execute_result"
    }
   ],
   "source": [
    "# A mapping object representing the string environment. For example, environ['HOME'] is the pathname of \n",
    "# your home directory\n",
    "os.environ['HOME']"
   ]
  },
  {
   "cell_type": "code",
   "execution_count": 10,
   "id": "5bb06e06",
   "metadata": {},
   "outputs": [
    {
     "data": {
      "text/plain": [
       "'/Users/amin/Desktop/python_course/Elementary-Python-suf'"
      ]
     },
     "execution_count": 10,
     "metadata": {},
     "output_type": "execute_result"
    }
   ],
   "source": [
    "os.getcwd()"
   ]
  },
  {
   "cell_type": "code",
   "execution_count": 12,
   "id": "e5895db5",
   "metadata": {},
   "outputs": [
    {
     "data": {
      "text/plain": [
       "'/Users/amin/Desktop/python_course'"
      ]
     },
     "execution_count": 12,
     "metadata": {},
     "output_type": "execute_result"
    }
   ],
   "source": [
    "os.chdir('/Users/amin/Desktop/python_course/')\n",
    "os.getcwd()"
   ]
  },
  {
   "cell_type": "code",
   "execution_count": 14,
   "id": "b47840ae",
   "metadata": {},
   "outputs": [
    {
     "data": {
      "text/plain": [
       "'/Users/amin/Desktop/python_course/Elementary-Python-suf'"
      ]
     },
     "execution_count": 14,
     "metadata": {},
     "output_type": "execute_result"
    }
   ],
   "source": [
    "import os\n",
    " \n",
    "# Directory\n",
    "directory = \"Elementary-Python-suf\"\n",
    " \n",
    "# Parent Directory path\n",
    "parent_dir = \"/Users/amin/Desktop/python_course/\"\n",
    " \n",
    "# Path\n",
    "path = os.path.join(parent_dir, directory)\n",
    "path"
   ]
  },
  {
   "cell_type": "code",
   "execution_count": 77,
   "id": "59139802",
   "metadata": {},
   "outputs": [
    {
     "data": {
      "text/plain": [
       "['.DS_Store',\n",
       " 'python_course',\n",
       " 'Test',\n",
       " '.localized',\n",
       " 'others',\n",
       " 'Data_Science_Course',\n",
       " '.ipynb_checkpoints']"
      ]
     },
     "execution_count": 77,
     "metadata": {},
     "output_type": "execute_result"
    }
   ],
   "source": [
    "### Use os to handle files\n",
    "import os\n",
    "entries = os.listdir('./..')\n",
    "entries"
   ]
  },
  {
   "cell_type": "code",
   "execution_count": 83,
   "id": "c6baa978",
   "metadata": {},
   "outputs": [
    {
     "name": "stdout",
     "output_type": "stream",
     "text": [
      ".DS_Store\n",
      "python_course\n",
      "Test\n",
      ".localized\n",
      "others\n",
      "Data_Science_Course\n",
      ".ipynb_checkpoints\n"
     ]
    }
   ],
   "source": [
    "with os.scandir('../') as entries:\n",
    "    for entry in entries:\n",
    "        print(entry.name)"
   ]
  },
  {
   "cell_type": "code",
   "execution_count": 87,
   "id": "44e3ac8b",
   "metadata": {},
   "outputs": [
    {
     "name": "stdout",
     "output_type": "stream",
     "text": [
      ".DS_Store\n",
      ".CFUserTextEncoding\n",
      ".zshrc\n",
      ".zcompdump-Amin's MacBook Pro-5.8\n",
      ".zsh_history\n",
      ".python_history\n",
      ".gitconfig\n",
      ".bash_history\n",
      ".viminfo\n"
     ]
    }
   ],
   "source": [
    "with os.scandir('../../') as entries:\n",
    "    for entry in entries:\n",
    "        if entry.is_file():\n",
    "            print(entry.name)"
   ]
  },
  {
   "cell_type": "code",
   "execution_count": 86,
   "id": "59b83302",
   "metadata": {},
   "outputs": [
    {
     "name": "stdout",
     "output_type": "stream",
     "text": [
      "Music\n",
      "eclipse\n",
      "Pictures\n",
      "Desktop\n",
      "Library\n",
      "Public\n",
      "Movies\n",
      "Applications\n",
      "Documents\n",
      "Downloads\n"
     ]
    }
   ],
   "source": [
    "basepath = '../../'\n",
    "for entry in os.listdir(basepath):\n",
    "    if (os.path.isdir(os.path.join(basepath, entry)) and not(entry.startswith('.'))):\n",
    "        print(entry)"
   ]
  },
  {
   "cell_type": "code",
   "execution_count": 76,
   "id": "ab2d9dd1",
   "metadata": {},
   "outputs": [
    {
     "name": "stdout",
     "output_type": "stream",
     "text": [
      "Found directory: ['Elementary-Python-suf', 'T_Test']\n",
      "Found directory: ['.ipynb_checkpoints', '.git']\n",
      "Python_CH3.ipynb\n",
      "Python_Elementary_Prata_Academy.ipynb\n",
      "Python_CH1.ipynb\n",
      "Python_CH5.ipynb\n",
      "try1.py\n",
      "Python Tips .pdf\n",
      "Python_CH12.ipynb\n",
      "LICENSE\n",
      "0- Think_Python, 2nd Edition.pdf\n",
      "Python_CH10.ipynb\n",
      "Python_CH7.ipynb\n",
      "mbox-short.txt\n",
      "Python Programming.pdf\n",
      "Python_CH2.ipynb\n",
      "test1.py\n",
      "Python_CH11.ipynb\n",
      "Python_CH6.ipynb\n",
      "mbox.txt\n",
      "Python_CH4.ipynb\n",
      "python3 - SourceSara.com.pdf\n",
      "README.md\n",
      "Python_CH8.ipynb\n",
      "Practice.ipynb\n",
      "Python for Everybody.pdf\n",
      "Python_CH9.ipynb\n",
      "output.txt\n",
      "Found directory: []\n",
      "Python_CH1-checkpoint.ipynb\n",
      "Python_CH10-checkpoint.ipynb\n",
      "Python_CH5-checkpoint.ipynb\n",
      "Python_CH11-checkpoint.ipynb\n",
      "Python_CH4-checkpoint.ipynb\n",
      "Python_CH12-checkpoint.ipynb\n",
      "Python_CH8-checkpoint.ipynb\n",
      "Python_CH3-checkpoint.ipynb\n",
      "Python_CH7-checkpoint.ipynb\n",
      "Python_CH9-checkpoint.ipynb\n",
      "Python_Elementary_Prata_Academy-checkpoint.ipynb\n",
      "Python_CH2-checkpoint.ipynb\n",
      "Python_CH6-checkpoint.ipynb\n",
      "Practice-checkpoint.ipynb\n",
      "Found directory: ['objects', 'info', 'logs', 'hooks', 'refs']\n",
      "ORIG_HEAD\n",
      "config\n",
      "HEAD\n",
      "description\n",
      "index\n",
      "packed-refs\n",
      "COMMIT_EDITMSG\n",
      "FETCH_HEAD\n",
      "Found directory: ['58', 'bb', 'd6', 'f2', 'pack', '7c', '42', '80', '72', '2a', '88', 'info', '55', 'b7', 'f0', 'ff', 'ce', '8d', '8e']\n",
      "Found directory: []\n",
      "d070a905642b3c620beb2fddee88cd49b6676b\n",
      "Found directory: []\n",
      "f40dac94794f2bc9a3f53c2e77542ca8374819\n",
      "Found directory: []\n",
      "6f7834c89d2c1aa700138da6f082c523870f73\n",
      "Found directory: []\n",
      "f6f26582db145ee8f3467e4c416cb7bbf3e5df\n",
      "Found directory: []\n",
      "pack-d6dfdc9b211b87273a1f0f2ec48dd2261cb94594.pack\n",
      "pack-d6dfdc9b211b87273a1f0f2ec48dd2261cb94594.idx\n",
      "Found directory: []\n",
      "8c51e93583db21fa91ba2cf831f8cfcf5f0455\n",
      "Found directory: []\n",
      "c71dbfce4c16791e03ff06ff62393f31b40809\n",
      "Found directory: []\n",
      "9a2b265190a8b944fbd3bd6a2a4684578ed862\n",
      "Found directory: []\n",
      "1bc79636f44b7b27d0c2ef17f722da3b0fc9cc\n",
      "Found directory: []\n",
      "61a34f2df2a8b6d5f24ed5c767c20acbf8ec69\n",
      "Found directory: []\n",
      "a2802e82b8ad9680a61e2836c786ecd7c71771\n",
      "Found directory: []\n",
      "Found directory: []\n",
      "65c3c1bc5afb87435b48b77a02738c86d2119f\n",
      "Found directory: []\n",
      "034ec97cc6abb4d1ab3e940385ab67214574e6\n",
      "Found directory: []\n",
      "9feebda814478ba4b121eaa27d75e5d045eaf0\n",
      "6738cc9192bc7c4f80667bf2022c2f9c357f72\n",
      "Found directory: []\n",
      "59a6bafc3610408ad61a34d876641d087b1f50\n",
      "Found directory: []\n",
      "379bae0e32fc1fd3ea238d524154cfa184a73f\n",
      "Found directory: []\n",
      "e39e655511f2ed6fe581e116740fdfe4636e5e\n",
      "Found directory: []\n",
      "22026122fa30cb971e6d69e412e7cc778b181a\n",
      "Found directory: []\n",
      "exclude\n",
      "Found directory: ['refs']\n",
      "HEAD\n",
      "Found directory: ['heads', 'remotes']\n",
      "Found directory: []\n",
      "main\n",
      "Found directory: ['origin']\n",
      "Found directory: []\n",
      "HEAD\n",
      "main\n",
      "Found directory: []\n",
      "commit-msg.sample\n",
      "pre-rebase.sample\n",
      "pre-commit.sample\n",
      "applypatch-msg.sample\n",
      "fsmonitor-watchman.sample\n",
      "pre-receive.sample\n",
      "prepare-commit-msg.sample\n",
      "post-update.sample\n",
      "pre-merge-commit.sample\n",
      "pre-applypatch.sample\n",
      "pre-push.sample\n",
      "update.sample\n",
      "push-to-checkout.sample\n",
      "Found directory: ['heads', 'tags', 'remotes']\n",
      "Found directory: []\n",
      "main\n",
      "Found directory: []\n",
      "Found directory: ['origin']\n",
      "Found directory: []\n",
      "HEAD\n",
      "main\n",
      "Found directory: ['.ipynb_checkpoints']\n",
      "NPV_Calculation.ipynb\n",
      "python_course_3.py\n",
      "test1.py\n",
      "Found directory: []\n",
      "NPV_Calculation-checkpoint.ipynb\n"
     ]
    }
   ],
   "source": [
    "# Walking a directory tree and printing the names of the directories and files\n",
    "for dirpath, dirnames, files in os.walk('.'):\n",
    "    print(f'Found directory: {dirnames}')\n",
    "    for file_name in files:\n",
    "        if not(file_name.startswith('.')):\n",
    "            print(file_name)"
   ]
  },
  {
   "cell_type": "code",
   "execution_count": null,
   "id": "f47b9b70",
   "metadata": {},
   "outputs": [],
   "source": []
  },
  {
   "cell_type": "code",
   "execution_count": null,
   "id": "d911ad96",
   "metadata": {},
   "outputs": [],
   "source": []
  },
  {
   "cell_type": "code",
   "execution_count": null,
   "id": "c663ee1d",
   "metadata": {},
   "outputs": [],
   "source": []
  },
  {
   "cell_type": "markdown",
   "id": "636e437c",
   "metadata": {},
   "source": [
    "## [math](https://docs.python.org/3.7/library/math.html)"
   ]
  },
  {
   "cell_type": "code",
   "execution_count": 20,
   "id": "b52c20ae",
   "metadata": {},
   "outputs": [],
   "source": [
    "from math import *"
   ]
  },
  {
   "cell_type": "code",
   "execution_count": 18,
   "id": "60b94f18",
   "metadata": {},
   "outputs": [
    {
     "name": "stdout",
     "output_type": "stream",
     "text": [
      "5\n",
      "25\n"
     ]
    }
   ],
   "source": [
    "x = min(5, 10, 25)\n",
    "y = max(5, 10, 25)\n",
    "\n",
    "print(x)\n",
    "print(y)"
   ]
  },
  {
   "cell_type": "code",
   "execution_count": 19,
   "id": "433e87e7",
   "metadata": {},
   "outputs": [
    {
     "name": "stdout",
     "output_type": "stream",
     "text": [
      "7.25\n"
     ]
    }
   ],
   "source": [
    "x = abs(-7.25)\n",
    "\n",
    "print(x)"
   ]
  },
  {
   "cell_type": "code",
   "execution_count": 21,
   "id": "30d8f6d5",
   "metadata": {},
   "outputs": [
    {
     "name": "stdout",
     "output_type": "stream",
     "text": [
      "64.0\n"
     ]
    }
   ],
   "source": [
    "x = pow(4, 3)\n",
    "\n",
    "print(x)"
   ]
  },
  {
   "cell_type": "code",
   "execution_count": 22,
   "id": "478ad660",
   "metadata": {},
   "outputs": [
    {
     "data": {
      "text/plain": [
       "8.0"
      ]
     },
     "execution_count": 22,
     "metadata": {},
     "output_type": "execute_result"
    }
   ],
   "source": [
    "sqrt(64)"
   ]
  },
  {
   "cell_type": "code",
   "execution_count": 24,
   "id": "c2b99be7",
   "metadata": {},
   "outputs": [
    {
     "data": {
      "text/plain": [
       "(2, 1)"
      ]
     },
     "execution_count": 24,
     "metadata": {},
     "output_type": "execute_result"
    }
   ],
   "source": [
    "x = ceil(1.4)\n",
    "y = floor(1.4)\n",
    "x, y"
   ]
  },
  {
   "cell_type": "code",
   "execution_count": 26,
   "id": "12cef53b",
   "metadata": {},
   "outputs": [
    {
     "data": {
      "text/plain": [
       "True"
      ]
     },
     "execution_count": 26,
     "metadata": {},
     "output_type": "execute_result"
    }
   ],
   "source": [
    "x = 1e308\n",
    "inf > x"
   ]
  },
  {
   "cell_type": "code",
   "execution_count": 27,
   "id": "08f25e46",
   "metadata": {},
   "outputs": [
    {
     "data": {
      "text/plain": [
       "True"
      ]
     },
     "execution_count": 27,
     "metadata": {},
     "output_type": "execute_result"
    }
   ],
   "source": [
    "y = -1e308\n",
    "y > -inf"
   ]
  },
  {
   "cell_type": "markdown",
   "id": "239066fe",
   "metadata": {},
   "source": [
    "Not a number, or NaN, isn’t really a mathematical concept. It originated in the computer science field as a reference to values that are not numeric. A NaN value can be due to invalid inputs, or it can indicate that a variable that should be numerical has been corrupted by text characters or symbols."
   ]
  },
  {
   "cell_type": "code",
   "execution_count": 28,
   "id": "f38e20b7",
   "metadata": {},
   "outputs": [
    {
     "data": {
      "text/plain": [
       "True"
      ]
     },
     "execution_count": 28,
     "metadata": {},
     "output_type": "execute_result"
    }
   ],
   "source": [
    "x = nan\n",
    "isnan(x)"
   ]
  },
  {
   "cell_type": "code",
   "execution_count": 29,
   "id": "e9335d01",
   "metadata": {},
   "outputs": [
    {
     "data": {
      "text/plain": [
       "5040"
      ]
     },
     "execution_count": 29,
     "metadata": {},
     "output_type": "execute_result"
    }
   ],
   "source": [
    "factorial(7)"
   ]
  },
  {
   "cell_type": "code",
   "execution_count": 30,
   "id": "0d05f7c4",
   "metadata": {},
   "outputs": [
    {
     "ename": "ValueError",
     "evalue": "factorial() not defined for negative values",
     "output_type": "error",
     "traceback": [
      "\u001b[0;31m---------------------------------------------------------------------------\u001b[0m",
      "\u001b[0;31mValueError\u001b[0m                                Traceback (most recent call last)",
      "Input \u001b[0;32mIn [30]\u001b[0m, in \u001b[0;36m<module>\u001b[0;34m\u001b[0m\n\u001b[0;32m----> 1\u001b[0m \u001b[43mfactorial\u001b[49m\u001b[43m(\u001b[49m\u001b[38;5;241;43m-\u001b[39;49m\u001b[38;5;241;43m7\u001b[39;49m\u001b[43m)\u001b[49m\n",
      "\u001b[0;31mValueError\u001b[0m: factorial() not defined for negative values"
     ]
    }
   ],
   "source": [
    "factorial(-7)"
   ]
  },
  {
   "cell_type": "code",
   "execution_count": 31,
   "id": "4325d2d3",
   "metadata": {},
   "outputs": [
    {
     "name": "stderr",
     "output_type": "stream",
     "text": [
      "/var/folders/xt/lb3yftd15hjcs4xhz_b_tszc0000gp/T/ipykernel_32655/1885261326.py:1: DeprecationWarning: Using factorial() with floats is deprecated\n",
      "  factorial(7.5)\n"
     ]
    },
    {
     "ename": "ValueError",
     "evalue": "factorial() only accepts integral values",
     "output_type": "error",
     "traceback": [
      "\u001b[0;31m---------------------------------------------------------------------------\u001b[0m",
      "\u001b[0;31mValueError\u001b[0m                                Traceback (most recent call last)",
      "Input \u001b[0;32mIn [31]\u001b[0m, in \u001b[0;36m<module>\u001b[0;34m\u001b[0m\n\u001b[0;32m----> 1\u001b[0m \u001b[43mfactorial\u001b[49m\u001b[43m(\u001b[49m\u001b[38;5;241;43m7.5\u001b[39;49m\u001b[43m)\u001b[49m\n",
      "\u001b[0;31mValueError\u001b[0m: factorial() only accepts integral values"
     ]
    }
   ],
   "source": [
    "factorial(7.5)"
   ]
  },
  {
   "cell_type": "code",
   "execution_count": 32,
   "id": "a760c1aa",
   "metadata": {},
   "outputs": [
    {
     "data": {
      "text/plain": [
       "(12, -12)"
      ]
     },
     "execution_count": 32,
     "metadata": {},
     "output_type": "execute_result"
    }
   ],
   "source": [
    "trunc(12.32), trunc(-12.32)"
   ]
  },
  {
   "cell_type": "code",
   "execution_count": 35,
   "id": "5f320ad0",
   "metadata": {},
   "outputs": [
    {
     "data": {
      "text/plain": [
       "'Remaining quantity of Sr-90: 16.22044604811303'"
      ]
     },
     "execution_count": 35,
     "metadata": {},
     "output_type": "execute_result"
    }
   ],
   "source": [
    "half_life = 38.1\n",
    "initial = 100\n",
    "time = 100\n",
    "remaining = initial * exp(-0.693 * time / half_life)\n",
    "f\"Remaining quantity of Sr-90: {remaining}\""
   ]
  },
  {
   "cell_type": "code",
   "execution_count": 36,
   "id": "e8eedefb",
   "metadata": {},
   "outputs": [
    {
     "name": "stdout",
     "output_type": "stream",
     "text": [
      "1.6514961294723187\n",
      "1.651496129472319\n"
     ]
    }
   ],
   "source": [
    "print(log2(pi))\n",
    "\n",
    "print(log(pi, 2))"
   ]
  },
  {
   "cell_type": "code",
   "execution_count": 37,
   "id": "4b32d666",
   "metadata": {},
   "outputs": [
    {
     "name": "stdout",
     "output_type": "stream",
     "text": [
      "0.49714987269413385\n",
      "0.4971498726941338\n"
     ]
    }
   ],
   "source": [
    "print(log10(pi))\n",
    "\n",
    "print(log(pi, 10))"
   ]
  },
  {
   "cell_type": "code",
   "execution_count": 38,
   "id": "ef58b3e1",
   "metadata": {},
   "outputs": [
    {
     "data": {
      "text/plain": [
       "((2+3j), complex)"
      ]
     },
     "execution_count": 38,
     "metadata": {},
     "output_type": "execute_result"
    }
   ],
   "source": [
    "c = complex(2, 3)\n",
    "c, type(c)"
   ]
  },
  {
   "cell_type": "code",
   "execution_count": 39,
   "id": "0ae289f8",
   "metadata": {},
   "outputs": [
    {
     "name": "stdout",
     "output_type": "stream",
     "text": [
      "Sine value of 20 degrees =  0.49999999999999994\n"
     ]
    }
   ],
   "source": [
    "angle = 30\n",
    "\n",
    "angle_radians = radians(angle)\n",
    "\n",
    "print(\"Sine value of 20 degrees = \", sin(angle_radians))"
   ]
  },
  {
   "cell_type": "code",
   "execution_count": null,
   "id": "5d2fd3f4",
   "metadata": {},
   "outputs": [],
   "source": []
  },
  {
   "cell_type": "markdown",
   "id": "e717bf23",
   "metadata": {},
   "source": [
    "## [datetime](https://docs.python.org/3.7/library/datetime.html)"
   ]
  },
  {
   "cell_type": "code",
   "execution_count": 40,
   "id": "2c402ba5",
   "metadata": {},
   "outputs": [
    {
     "name": "stdout",
     "output_type": "stream",
     "text": [
      "2022-05-30 14:04:37.914800\n"
     ]
    }
   ],
   "source": [
    "import datetime\n",
    "\n",
    "datetime_object = datetime.datetime.now()\n",
    "print(datetime_object)"
   ]
  },
  {
   "cell_type": "code",
   "execution_count": 41,
   "id": "da05e500",
   "metadata": {},
   "outputs": [
    {
     "name": "stdout",
     "output_type": "stream",
     "text": [
      "2022-05-30\n"
     ]
    }
   ],
   "source": [
    "\n",
    "import datetime\n",
    "\n",
    "date_object = datetime.date.today()\n",
    "print(date_object)"
   ]
  },
  {
   "cell_type": "code",
   "execution_count": 42,
   "id": "29aaac0f",
   "metadata": {},
   "outputs": [
    {
     "name": "stdout",
     "output_type": "stream",
     "text": [
      "Date = 2012-01-11\n"
     ]
    }
   ],
   "source": [
    "from datetime import date\n",
    "\n",
    "timestamp = date.fromtimestamp(1326244364)\n",
    "print(\"Date =\", timestamp)"
   ]
  },
  {
   "cell_type": "code",
   "execution_count": 43,
   "id": "496d7a45",
   "metadata": {},
   "outputs": [
    {
     "name": "stdout",
     "output_type": "stream",
     "text": [
      "Current year: 2022\n",
      "Current month: 5\n",
      "Current day: 30\n"
     ]
    }
   ],
   "source": [
    "\n",
    "from datetime import date\n",
    "\n",
    "# date object of today's date\n",
    "today = date.today() \n",
    "\n",
    "print(\"Current year:\", today.year)\n",
    "print(\"Current month:\", today.month)\n",
    "print(\"Current day:\", today.day)"
   ]
  },
  {
   "cell_type": "code",
   "execution_count": 44,
   "id": "576eb1d9",
   "metadata": {},
   "outputs": [
    {
     "name": "stdout",
     "output_type": "stream",
     "text": [
      "a = 00:00:00\n",
      "b = 11:34:56\n",
      "c = 11:34:56\n",
      "d = 11:34:56.234566\n"
     ]
    }
   ],
   "source": [
    "\n",
    "from datetime import time\n",
    "\n",
    "# time(hour = 0, minute = 0, second = 0)\n",
    "a = time()\n",
    "print(\"a =\", a)\n",
    "\n",
    "# time(hour, minute and second)\n",
    "b = time(11, 34, 56)\n",
    "print(\"b =\", b)\n",
    "\n",
    "# time(hour, minute and second)\n",
    "c = time(hour = 11, minute = 34, second = 56)\n",
    "print(\"c =\", c)\n",
    "\n",
    "# time(hour, minute, second, microsecond)\n",
    "d = time(11, 34, 56, 234566)\n",
    "print(\"d =\", d)"
   ]
  },
  {
   "cell_type": "code",
   "execution_count": 45,
   "id": "83f81d63",
   "metadata": {},
   "outputs": [
    {
     "name": "stdout",
     "output_type": "stream",
     "text": [
      "t3 = 14 days, 13:55:39\n"
     ]
    }
   ],
   "source": [
    "\n",
    "from datetime import timedelta\n",
    "\n",
    "t1 = timedelta(weeks = 2, days = 5, hours = 1, seconds = 33)\n",
    "t2 = timedelta(days = 4, hours = 11, minutes = 4, seconds = 54)\n",
    "t3 = t1 - t2\n",
    "\n",
    "print(\"t3 =\", t3)"
   ]
  },
  {
   "cell_type": "code",
   "execution_count": 46,
   "id": "ceb96506",
   "metadata": {},
   "outputs": [
    {
     "name": "stdout",
     "output_type": "stream",
     "text": [
      "time: 14:08:31\n",
      "s1: 05/30/2022, 14:08:31\n",
      "s2: 30/05/2022, 14:08:31\n"
     ]
    }
   ],
   "source": [
    "\n",
    "from datetime import datetime\n",
    "\n",
    "# current date and time\n",
    "now = datetime.now()\n",
    "\n",
    "t = now.strftime(\"%H:%M:%S\")\n",
    "print(\"time:\", t)\n",
    "\n",
    "s1 = now.strftime(\"%m/%d/%Y, %H:%M:%S\")\n",
    "# mm/dd/YY H:M:S format\n",
    "print(\"s1:\", s1)\n",
    "\n",
    "s2 = now.strftime(\"%d/%m/%Y, %H:%M:%S\")\n",
    "# dd/mm/YY H:M:S format\n",
    "print(\"s2:\", s2)"
   ]
  },
  {
   "cell_type": "code",
   "execution_count": 47,
   "id": "4e946bb6",
   "metadata": {},
   "outputs": [
    {
     "name": "stdout",
     "output_type": "stream",
     "text": [
      "date_string = 21 June, 2018\n",
      "date_object = 2018-06-21 00:00:00\n"
     ]
    }
   ],
   "source": [
    "\n",
    "from datetime import datetime\n",
    "\n",
    "date_string = \"21 June, 2018\"\n",
    "print(\"date_string =\", date_string)\n",
    "\n",
    "date_object = datetime.strptime(date_string, \"%d %B, %Y\")\n",
    "print(\"date_object =\", date_object)"
   ]
  },
  {
   "cell_type": "code",
   "execution_count": 48,
   "id": "7fb55ec9",
   "metadata": {},
   "outputs": [
    {
     "name": "stdout",
     "output_type": "stream",
     "text": [
      "2022\n",
      "Monday\n"
     ]
    }
   ],
   "source": [
    "import datetime\n",
    "\n",
    "x = datetime.datetime.now()\n",
    "\n",
    "print(x.year)\n",
    "print(x.strftime(\"%A\"))"
   ]
  },
  {
   "cell_type": "code",
   "execution_count": null,
   "id": "5ce56229",
   "metadata": {},
   "outputs": [],
   "source": [
    "# https://www.w3schools.com/python/python_datetime.asp"
   ]
  },
  {
   "cell_type": "code",
   "execution_count": 49,
   "id": "7bdb3d91",
   "metadata": {},
   "outputs": [
    {
     "name": "stdout",
     "output_type": "stream",
     "text": [
      "June\n"
     ]
    }
   ],
   "source": [
    "import datetime\n",
    "\n",
    "x = datetime.datetime(2018, 6, 1)\n",
    "\n",
    "print(x.strftime(\"%B\"))"
   ]
  },
  {
   "cell_type": "code",
   "execution_count": null,
   "id": "f5c5aab2",
   "metadata": {},
   "outputs": [],
   "source": []
  },
  {
   "cell_type": "code",
   "execution_count": null,
   "id": "8c075311",
   "metadata": {},
   "outputs": [],
   "source": []
  },
  {
   "cell_type": "markdown",
   "id": "c3964b14",
   "metadata": {},
   "source": [
    "## [sys](https://docs.python.org/3.7/library/sys.html)"
   ]
  },
  {
   "cell_type": "code",
   "execution_count": null,
   "id": "43972021",
   "metadata": {},
   "outputs": [],
   "source": [
    "# vscode\n",
    "import sys\n",
    "  \n",
    "# total arguments\n",
    "n = len(sys.argv)\n",
    "print(\"Total arguments passed:\", n)\n",
    "  \n",
    "# Arguments passed\n",
    "print(\"\\nName of Python script:\", sys.argv[0])\n",
    "  \n",
    "print(\"\\nArguments passed:\", end = \" \")\n",
    "for i in range(1, n):\n",
    "    print(sys.argv[i], end = \" \")\n",
    "      \n",
    "# Addition of numbers\n",
    "Sum = 0\n",
    "  \n",
    "for i in range(1, n):\n",
    "    Sum += int(sys.argv[i])\n",
    "      \n",
    "print(\"\\n\\nResult:\", Sum)"
   ]
  },
  {
   "cell_type": "code",
   "execution_count": 56,
   "id": "a00b408e",
   "metadata": {},
   "outputs": [
    {
     "ename": "SystemExit",
     "evalue": "Age less than 18",
     "output_type": "error",
     "traceback": [
      "An exception has occurred, use %tb to see the full traceback.\n",
      "\u001b[0;31mSystemExit\u001b[0m\u001b[0;31m:\u001b[0m Age less than 18\n"
     ]
    },
    {
     "name": "stderr",
     "output_type": "stream",
     "text": [
      "/usr/local/lib/python3.9/site-packages/IPython/core/interactiveshell.py:3259: UserWarning: To exit: use 'exit', 'quit', or Ctrl-D.\n",
      "  warn(\"To exit: use 'exit', 'quit', or Ctrl-D.\", stacklevel=1)\n"
     ]
    }
   ],
   "source": [
    "\n",
    "# Python program to demonstrate \n",
    "# sys.exit() \n",
    "  \n",
    "import sys \n",
    "  \n",
    "age = 17\n",
    "  \n",
    "if age < 18: \n",
    "      \n",
    "    # exits the program \n",
    "    sys.exit(\"Age less than 18\")     \n",
    "else: \n",
    "    print(\"Age is not less than 18\") "
   ]
  },
  {
   "cell_type": "code",
   "execution_count": 57,
   "id": "1e22af68",
   "metadata": {},
   "outputs": [
    {
     "name": "stdout",
     "output_type": "stream",
     "text": [
      "['/Users/amin/Desktop/python_course/Elementary-Python-suf', '/usr/local/Cellar/python@3.9/3.9.6/Frameworks/Python.framework/Versions/3.9/lib/python39.zip', '/usr/local/Cellar/python@3.9/3.9.6/Frameworks/Python.framework/Versions/3.9/lib/python3.9', '/usr/local/Cellar/python@3.9/3.9.6/Frameworks/Python.framework/Versions/3.9/lib/python3.9/lib-dynload', '', '/usr/local/lib/python3.9/site-packages']\n"
     ]
    }
   ],
   "source": [
    "#  Listing out all the paths\n",
    "import sys\n",
    "  \n",
    "print(sys.path)"
   ]
  },
  {
   "cell_type": "code",
   "execution_count": 58,
   "id": "4b622ff0",
   "metadata": {},
   "outputs": [
    {
     "name": "stdout",
     "output_type": "stream",
     "text": [
      "3\n"
     ]
    }
   ],
   "source": [
    "# sys.getrefcount() method is used to get the reference count for any given object. \n",
    "# This value is used by Python as when this value becomes 0, the memory for that particular value is deleted.\n",
    "\n",
    "import sys\n",
    "  \n",
    "a = 'Hello'\n",
    "  \n",
    "print(sys.getrefcount(a))"
   ]
  },
  {
   "cell_type": "code",
   "execution_count": null,
   "id": "89acd263",
   "metadata": {},
   "outputs": [],
   "source": []
  },
  {
   "cell_type": "code",
   "execution_count": null,
   "id": "1d5fdcd4",
   "metadata": {},
   "outputs": [],
   "source": []
  },
  {
   "cell_type": "code",
   "execution_count": null,
   "id": "b41abeac",
   "metadata": {},
   "outputs": [],
   "source": []
  },
  {
   "cell_type": "markdown",
   "id": "ca58c5d2",
   "metadata": {},
   "source": [
    "## [argparse](https://docs.python.org/3.7/howto/argparse.html)"
   ]
  },
  {
   "cell_type": "code",
   "execution_count": null,
   "id": "2ab7a40f",
   "metadata": {},
   "outputs": [],
   "source": [
    "# vs liveness\n",
    "import argparse\n",
    "\n",
    "ap = argparse.ArgumentParser()\n",
    "ap.add_argument(\"-g\", \"--shape-predictor\", default=\"face_detector/shape_predictor_68_face_landmarks.dat\",\n",
    "                help=\"path to facial landmark predictor\")\n",
    "\n",
    "ap.add_argument(\"-m\", \"--model\", default=\"models/liveness-entropy-sigmoid-15.model\",\n",
    "                help=\"path to trained model\")\n",
    "ap.add_argument(\"-l\", \"--le\", type=str, default=\"pickles/le.pickle\",\n",
    "                help=\"path to label encoder\")\n",
    "ap.add_argument(\"-c\", \"--confidence\", type=float, default=0.5,\n",
    "                help=\"minimum probability to filter weak detections\")\n",
    "ap.add_argument(\"-v\", \"--video\", type=str, default=\"\",\n",
    "                help=\"path to input video file\")\n",
    "args = vars(ap.parse_args())\n",
    "\n",
    "print(args)"
   ]
  },
  {
   "cell_type": "code",
   "execution_count": null,
   "id": "c63fb9ac",
   "metadata": {},
   "outputs": [],
   "source": []
  },
  {
   "cell_type": "code",
   "execution_count": null,
   "id": "8f08a66c",
   "metadata": {},
   "outputs": [],
   "source": []
  },
  {
   "cell_type": "markdown",
   "id": "db67e1e1",
   "metadata": {},
   "source": [
    "## [random](https://docs.python.org/3.7/library/random.html)"
   ]
  },
  {
   "cell_type": "code",
   "execution_count": 59,
   "id": "4a03e364",
   "metadata": {},
   "outputs": [
    {
     "data": {
      "text/plain": [
       "(0.47410187490952216, 0.20108261684477957)"
      ]
     },
     "execution_count": 59,
     "metadata": {},
     "output_type": "execute_result"
    }
   ],
   "source": [
    "import random\n",
    "random.random(), random.random()\n"
   ]
  },
  {
   "cell_type": "code",
   "execution_count": 62,
   "id": "0b5d798c",
   "metadata": {},
   "outputs": [
    {
     "data": {
      "text/plain": [
       "(7, 18601)"
      ]
     },
     "execution_count": 62,
     "metadata": {},
     "output_type": "execute_result"
    }
   ],
   "source": [
    "random.randint(0, 10), random.randint(500, 50000)"
   ]
  },
  {
   "cell_type": "code",
   "execution_count": 63,
   "id": "7fdb9d43",
   "metadata": {},
   "outputs": [
    {
     "data": {
      "text/plain": [
       "5"
      ]
     },
     "execution_count": 63,
     "metadata": {},
     "output_type": "execute_result"
    }
   ],
   "source": [
    "random.randrange(1, 10)"
   ]
  },
  {
   "cell_type": "code",
   "execution_count": 64,
   "id": "073cf686",
   "metadata": {},
   "outputs": [
    {
     "data": {
      "text/plain": [
       "(27.42639687016509, 36.33865802745107)"
      ]
     },
     "execution_count": 64,
     "metadata": {},
     "output_type": "execute_result"
    }
   ],
   "source": [
    "random.uniform(20, 30), random.uniform(30, 40)"
   ]
  },
  {
   "cell_type": "code",
   "execution_count": 65,
   "id": "d8d9d1fa",
   "metadata": {},
   "outputs": [
    {
     "data": {
      "text/plain": [
       "'four'"
      ]
     },
     "execution_count": 65,
     "metadata": {},
     "output_type": "execute_result"
    }
   ],
   "source": [
    "items = ['one', 'two', 'three', 'four', 'five']\n",
    "random.choice(items)"
   ]
  },
  {
   "cell_type": "code",
   "execution_count": 66,
   "id": "2f8a7d07",
   "metadata": {},
   "outputs": [
    {
     "data": {
      "text/plain": [
       "(['three', 'three'], ['three', 'five', 'four'])"
      ]
     },
     "execution_count": 66,
     "metadata": {},
     "output_type": "execute_result"
    }
   ],
   "source": [
    "random.choices(items, k=2), random.choices(items, k=3)"
   ]
  },
  {
   "cell_type": "code",
   "execution_count": 69,
   "id": "1a1e6866",
   "metadata": {},
   "outputs": [
    {
     "name": "stdout",
     "output_type": "stream",
     "text": [
      "['two', 'three', 'one']\n"
     ]
    }
   ],
   "source": [
    "# random sample from sequence\n",
    "print(random.sample(items, k=3))"
   ]
  },
  {
   "cell_type": "code",
   "execution_count": 67,
   "id": "006513bb",
   "metadata": {},
   "outputs": [
    {
     "data": {
      "text/plain": [
       "['two', 'three', 'four', 'five', 'one']"
      ]
     },
     "execution_count": 67,
     "metadata": {},
     "output_type": "execute_result"
    }
   ],
   "source": [
    "random.shuffle(items)\n",
    "items"
   ]
  },
  {
   "cell_type": "code",
   "execution_count": 68,
   "id": "725b4329",
   "metadata": {},
   "outputs": [
    {
     "name": "stdout",
     "output_type": "stream",
     "text": [
      "Original list : \n",
      "['A', 'B', 'C', 'D', 'E']\n",
      "\n",
      "After the first shuffle : \n",
      "['D', 'C', 'B', 'A', 'E']\n",
      "\n",
      "After the second shuffle : \n",
      "['D', 'B', 'A', 'C', 'E']\n"
     ]
    }
   ],
   "source": [
    "import random\n",
    " \n",
    "# declare a list\n",
    "sample_list = ['A', 'B', 'C', 'D', 'E']\n",
    " \n",
    "print(\"Original list : \")\n",
    "print(sample_list)\n",
    " \n",
    "# first shuffle\n",
    "random.shuffle(sample_list)\n",
    "print(\"\\nAfter the first shuffle : \")\n",
    "print(sample_list)\n",
    " \n",
    "# second shuffle\n",
    "random.shuffle(sample_list)\n",
    "print(\"\\nAfter the second shuffle : \")\n",
    "print(sample_list)"
   ]
  },
  {
   "cell_type": "code",
   "execution_count": null,
   "id": "64cca05d",
   "metadata": {},
   "outputs": [],
   "source": []
  },
  {
   "cell_type": "code",
   "execution_count": null,
   "id": "ffade99a",
   "metadata": {},
   "outputs": [],
   "source": []
  },
  {
   "cell_type": "code",
   "execution_count": 60,
   "id": "1187cccb",
   "metadata": {},
   "outputs": [
    {
     "data": {
      "text/plain": [
       "(0.3088946587429545, 0.01323751590501987)"
      ]
     },
     "execution_count": 60,
     "metadata": {},
     "output_type": "execute_result"
    }
   ],
   "source": [
    "random.seed(444)\n",
    "random.random(), random.random()"
   ]
  },
  {
   "cell_type": "code",
   "execution_count": 61,
   "id": "55714929",
   "metadata": {},
   "outputs": [
    {
     "data": {
      "text/plain": [
       "(0.3088946587429545, 0.01323751590501987)"
      ]
     },
     "execution_count": 61,
     "metadata": {},
     "output_type": "execute_result"
    }
   ],
   "source": [
    "random.seed(444)\n",
    "random.random(), random.random()"
   ]
  },
  {
   "cell_type": "code",
   "execution_count": null,
   "id": "bc39e921",
   "metadata": {},
   "outputs": [],
   "source": []
  },
  {
   "cell_type": "code",
   "execution_count": null,
   "id": "85862dff",
   "metadata": {},
   "outputs": [],
   "source": []
  },
  {
   "cell_type": "markdown",
   "id": "c7fc659e",
   "metadata": {},
   "source": [
    "## [re](https://docs.python.org/3.7/library/re.html)"
   ]
  },
  {
   "cell_type": "markdown",
   "id": "e045e00a",
   "metadata": {},
   "source": [
    "This module provides [regular expression](https://www.w3schools.com/python/python_regex.asp) matching operations similar to those found in Perl."
   ]
  },
  {
   "cell_type": "code",
   "execution_count": 17,
   "id": "c1bd67f7",
   "metadata": {},
   "outputs": [
    {
     "data": {
      "text/plain": [
       "<re.Match object; span=(0, 17), match='The rain in Spain'>"
      ]
     },
     "execution_count": 17,
     "metadata": {},
     "output_type": "execute_result"
    }
   ],
   "source": [
    "import re\n",
    "\n",
    "txt = \"The rain in Spain\"\n",
    "x = re.search(\"^The.*Spain$\", txt)\n",
    "x"
   ]
  },
  {
   "cell_type": "code",
   "execution_count": null,
   "id": "d9a91c59",
   "metadata": {},
   "outputs": [],
   "source": []
  },
  {
   "cell_type": "code",
   "execution_count": null,
   "id": "a6943675",
   "metadata": {},
   "outputs": [],
   "source": []
  },
  {
   "cell_type": "markdown",
   "id": "5f92cbbb",
   "metadata": {},
   "source": [
    "## [json](https://docs.python.org/3.7/library/json.html)"
   ]
  },
  {
   "cell_type": "code",
   "execution_count": null,
   "id": "7ea9511a",
   "metadata": {},
   "outputs": [],
   "source": []
  },
  {
   "cell_type": "code",
   "execution_count": null,
   "id": "40d46869",
   "metadata": {},
   "outputs": [],
   "source": []
  },
  {
   "cell_type": "code",
   "execution_count": null,
   "id": "1c071dd2",
   "metadata": {},
   "outputs": [],
   "source": []
  },
  {
   "cell_type": "code",
   "execution_count": null,
   "id": "6f4d5f6b",
   "metadata": {},
   "outputs": [],
   "source": []
  },
  {
   "cell_type": "markdown",
   "id": "00e88934",
   "metadata": {},
   "source": [
    "## [itertools](https://docs.python.org/3.7/library/itertools.html)"
   ]
  },
  {
   "cell_type": "code",
   "execution_count": null,
   "id": "49a62356",
   "metadata": {},
   "outputs": [],
   "source": []
  },
  {
   "cell_type": "code",
   "execution_count": null,
   "id": "00921f57",
   "metadata": {},
   "outputs": [],
   "source": []
  },
  {
   "cell_type": "code",
   "execution_count": null,
   "id": "3dd66e06",
   "metadata": {},
   "outputs": [],
   "source": []
  },
  {
   "cell_type": "code",
   "execution_count": null,
   "id": "80c661a0",
   "metadata": {},
   "outputs": [],
   "source": []
  },
  {
   "cell_type": "code",
   "execution_count": null,
   "id": "adb2c478",
   "metadata": {},
   "outputs": [],
   "source": []
  }
 ],
 "metadata": {
  "kernelspec": {
   "display_name": "Python 3 (ipykernel)",
   "language": "python",
   "name": "python3"
  },
  "language_info": {
   "codemirror_mode": {
    "name": "ipython",
    "version": 3
   },
   "file_extension": ".py",
   "mimetype": "text/x-python",
   "name": "python",
   "nbconvert_exporter": "python",
   "pygments_lexer": "ipython3",
   "version": "3.9.6"
  }
 },
 "nbformat": 4,
 "nbformat_minor": 5
}
